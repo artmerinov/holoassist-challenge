{
 "cells": [
  {
   "cell_type": "code",
   "execution_count": 1,
   "metadata": {},
   "outputs": [
    {
     "name": "stderr",
     "output_type": "stream",
     "text": [
      "/Users/artemmerinov/PycharmProjects/holoassist/.venv/lib/python3.12/site-packages/tqdm/auto.py:21: TqdmWarning: IProgress not found. Please update jupyter and ipywidgets. See https://ipywidgets.readthedocs.io/en/stable/user_install.html\n",
      "  from .autonotebook import tqdm as notebook_tqdm\n"
     ]
    }
   ],
   "source": [
    "import os\n",
    "os.environ['HF_HOME'] = \"/Users/artemmerinov/data/backbones/huggingface\" # before \n",
    "\n",
    "import timm\n",
    "from timm.models import vision_transformer\n",
    "from timesformer.models.vit import TimeSformer\n",
    "\n",
    "import torch\n",
    "import torch.nn as nn\n",
    "import torchvision.models as models\n",
    "from torch.profiler import profile, record_function, ProfilerActivity"
   ]
  },
  {
   "cell_type": "code",
   "execution_count": 2,
   "metadata": {},
   "outputs": [],
   "source": [
    "vit_model = timm.create_model(\n",
    "    model_name='timm/vit_base_patch16_224.augreg_in21k_ft_in1k',\n",
    "    pretrained=True,\n",
    "    num_classes=2000, \n",
    ")\n",
    "vit_state = vit_model.state_dict()\n",
    "\n",
    "for key in list(vit_state.keys()):\n",
    "    vit_state[f\"model.{key}\"] = vit_state.pop(key)\n",
    "    \n",
    "timesformer_model = TimeSformer(\n",
    "    img_size=224, \n",
    "    num_classes=2000, \n",
    "    num_frames=8, \n",
    "    attention_type='divided_space_time', \n",
    "    # pretrained_model=\"/Users/artemmerinov/.cache/torch/hub/checkpoints/jx_vit_base_p16_224-80ecf9dd.pth\"\n",
    ")\n",
    "timesformer_model.load_state_dict(vit_state, strict=False)\n",
    "timesformer_model_state = timesformer_model.state_dict()"
   ]
  },
  {
   "cell_type": "code",
   "execution_count": 14,
   "metadata": {},
   "outputs": [
    {
     "name": "stderr",
     "output_type": "stream",
     "text": [
      "STAGE:2024-04-30 19:41:19 55857:1682191 ActivityProfilerController.cpp:314] Completed Stage: Warm Up\n",
      "STAGE:2024-04-30 19:41:32 55857:1682191 ActivityProfilerController.cpp:320] Completed Stage: Collection\n",
      "STAGE:2024-04-30 19:41:32 55857:1682191 ActivityProfilerController.cpp:324] Completed Stage: Post Processing\n"
     ]
    }
   ],
   "source": [
    "inputs = torch.randn(5, 3, 8, 224, 224)\n",
    "\n",
    "with profile(activities=[ProfilerActivity.CPU], profile_memory=True, record_shapes=True) as prof:\n",
    "    timesformer_model(inputs)"
   ]
  },
  {
   "cell_type": "code",
   "execution_count": 18,
   "metadata": {},
   "outputs": [
    {
     "name": "stdout",
     "output_type": "stream",
     "text": [
      "----------------------------  ------------  ------------  ------------  ------------  ------------  ------------  ------------  ------------  \n",
      "                        Name    Self CPU %      Self CPU   CPU total %     CPU total  CPU time avg       CPU Mem  Self CPU Mem    # of Calls  \n",
      "----------------------------  ------------  ------------  ------------  ------------  ------------  ------------  ------------  ------------  \n",
      "                 aten::empty         0.08%       8.420ms         0.08%       8.420ms      28.836us       3.85 Gb       3.85 Gb           292  \n",
      "                aten::linear         0.02%       2.076ms        56.24%        6.000s      70.585ms       3.77 Gb           0 b            85  \n",
      "                 aten::addmm        49.10%        5.238s        56.19%        5.994s      70.522ms       3.77 Gb       3.77 Gb            85  \n",
      "                aten::matmul         0.02%       2.660ms         8.30%     885.000ms      18.438ms       3.03 Gb           0 b            48  \n",
      "               aten::reshape         0.03%       3.131ms         8.61%     918.647ms       2.602ms       3.01 Gb           0 b           353  \n",
      "                 aten::clone         0.02%       2.321ms         8.56%     912.677ms       6.811ms       3.01 Gb     -22.97 Mb           134  \n",
      "            aten::empty_like         0.00%     393.000us         0.02%       2.230ms      16.642us       3.01 Gb      45.94 Mb           134  \n",
      "                   aten::mul        17.04%        1.818s        17.04%        1.818s      31.895ms       1.61 Gb       1.61 Gb            57  \n",
      "                   aten::bmm         3.79%     404.655ms         3.79%     404.667ms       8.431ms       1.41 Gb       1.41 Gb            48  \n",
      "                  aten::gelu         3.77%     401.726ms         3.77%     401.726ms      33.477ms       1.08 Gb       1.08 Gb            12  \n",
      "----------------------------  ------------  ------------  ------------  ------------  ------------  ------------  ------------  ------------  \n",
      "Self CPU time total: 10.668s\n",
      "\n"
     ]
    }
   ],
   "source": [
    "print(prof.key_averages().table(sort_by=\"cpu_memory_usage\", row_limit=10))"
   ]
  },
  {
   "cell_type": "code",
   "execution_count": null,
   "metadata": {},
   "outputs": [],
   "source": []
  }
 ],
 "metadata": {
  "kernelspec": {
   "display_name": ".venv",
   "language": "python",
   "name": "python3"
  },
  "language_info": {
   "codemirror_mode": {
    "name": "ipython",
    "version": 3
   },
   "file_extension": ".py",
   "mimetype": "text/x-python",
   "name": "python",
   "nbconvert_exporter": "python",
   "pygments_lexer": "ipython3",
   "version": "3.12.2"
  }
 },
 "nbformat": 4,
 "nbformat_minor": 2
}
