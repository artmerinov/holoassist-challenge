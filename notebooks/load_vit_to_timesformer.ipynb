{
 "cells": [
  {
   "cell_type": "code",
   "execution_count": 1,
   "metadata": {},
   "outputs": [],
   "source": [
    "import os\n",
    "os.environ['HF_HOME'] = \"/Users/artemmerinov/data/backbones/huggingface\" # before \n",
    "os.chdir('../')"
   ]
  },
  {
   "cell_type": "code",
   "execution_count": 2,
   "metadata": {},
   "outputs": [],
   "source": [
    "import torch\n",
    "import torch.nn as nn\n",
    "import timm\n",
    "from timm.models import vision_transformer\n",
    "\n",
    "from src.TimeSformer.timesformer.models.vit import TimeSformer"
   ]
  },
  {
   "cell_type": "markdown",
   "metadata": {},
   "source": [
    "# VIT 224/384"
   ]
  },
  {
   "cell_type": "code",
   "execution_count": 3,
   "metadata": {},
   "outputs": [
    {
     "name": "stdout",
     "output_type": "stream",
     "text": [
      "Total number of parameters in the ViT model: 87336656\n"
     ]
    }
   ],
   "source": [
    "vit224 = timm.create_model(\n",
    "    model_name='timm/vit_base_patch16_224.augreg_in21k_ft_in1k',\n",
    "    pretrained=True,\n",
    "    num_classes=2000,\n",
    ")\n",
    "vit224_params = sum(p.numel() for p in vit224.parameters())\n",
    "print(f\"Total number of parameters in the ViT model: {vit224_params}\")\n",
    "\n",
    "vit224_state = vit224.state_dict()\n",
    "for key in list(vit224_state.keys()):\n",
    "    vit224_state[f\"model.{key}\"] = vit224_state.pop(key)"
   ]
  },
  {
   "cell_type": "code",
   "execution_count": 5,
   "metadata": {},
   "outputs": [
    {
     "name": "stdout",
     "output_type": "stream",
     "text": [
      "Total number of parameters in the ViT model: 87628496\n"
     ]
    }
   ],
   "source": [
    "vit384 = timm.create_model(\n",
    "    model_name='timm/vit_base_patch16_384.augreg_in21k_ft_in1k',\n",
    "    pretrained=True,\n",
    "    num_classes=2000,\n",
    ")\n",
    "vit384_params = sum(p.numel() for p in vit384.parameters())\n",
    "print(f\"Total number of parameters in the ViT model: {vit384_params}\")\n",
    "\n",
    "vit384_state = vit384.state_dict()\n",
    "for key in list(vit384_state.keys()):\n",
    "    vit384_state[f\"model.{key}\"] = vit384_state.pop(key)"
   ]
  },
  {
   "cell_type": "markdown",
   "metadata": {},
   "source": [
    "# TimeSformer"
   ]
  },
  {
   "cell_type": "code",
   "execution_count": 17,
   "metadata": {},
   "outputs": [
    {
     "name": "stdout",
     "output_type": "stream",
     "text": [
      "Total number of parameters in the TimeSformer model: 122802896\n"
     ]
    },
    {
     "data": {
      "text/plain": [
       "False"
      ]
     },
     "execution_count": 17,
     "metadata": {},
     "output_type": "execute_result"
    }
   ],
   "source": [
    "timesformer = TimeSformer(\n",
    "    img_size=224, \n",
    "    num_classes=2000, \n",
    "    num_frames=16, \n",
    "    attention_type='divided_space_time',\n",
    "    # pretrained_model=\"/Users/artemmerinov/.cache/torch/hub/checkpoints/jx_vit_base_p16_224-80ecf9dd.pth\"\n",
    ")\n",
    "timesformer_params = sum(p.numel() for p in timesformer.parameters())\n",
    "print(f\"Total number of parameters in the TimeSformer model: {timesformer_params}\")\n",
    "\n",
    "timesformer_state = timesformer.state_dict()\n",
    "\n",
    "torch.equal(\n",
    "    vit224_state[\"model.blocks.0.attn.proj.bias\"],\n",
    "    timesformer_state[\"model.blocks.0.attn.proj.bias\"]\n",
    ")"
   ]
  },
  {
   "cell_type": "markdown",
   "metadata": {},
   "source": [
    "# Load weigths from ViT into TimeSformer"
   ]
  },
  {
   "cell_type": "code",
   "execution_count": 22,
   "metadata": {},
   "outputs": [
    {
     "name": "stdout",
     "output_type": "stream",
     "text": [
      "Total number of parameters in the TimeSformer model: 122802896\n"
     ]
    },
    {
     "data": {
      "text/plain": [
       "True"
      ]
     },
     "execution_count": 22,
     "metadata": {},
     "output_type": "execute_result"
    }
   ],
   "source": [
    "timesformer = TimeSformer(\n",
    "    img_size=224, \n",
    "    num_classes=2000, \n",
    "    num_frames=16,\n",
    "    attention_type='divided_space_time',\n",
    "    # pretrained_model=\"/Users/artemmerinov/.cache/torch/hub/checkpoints/jx_vit_base_p16_224-80ecf9dd.pth\"\n",
    ")\n",
    "timesformer_params = sum(p.numel() for p in timesformer.parameters())\n",
    "print(f\"Total number of parameters in the TimeSformer model: {timesformer_params}\")\n",
    "\n",
    "load_result = timesformer.load_state_dict(vit224_state, strict=False)\n",
    "timesformer_state = timesformer.state_dict()\n",
    "\n",
    "torch.equal(\n",
    "    vit224_state[\"model.blocks.0.attn.proj.bias\"],\n",
    "    timesformer_state[\"model.blocks.0.attn.proj.bias\"]\n",
    ")"
   ]
  },
  {
   "cell_type": "code",
   "execution_count": null,
   "metadata": {},
   "outputs": [],
   "source": []
  }
 ],
 "metadata": {
  "kernelspec": {
   "display_name": ".venv",
   "language": "python",
   "name": "python3"
  },
  "language_info": {
   "codemirror_mode": {
    "name": "ipython",
    "version": 3
   },
   "file_extension": ".py",
   "mimetype": "text/x-python",
   "name": "python",
   "nbconvert_exporter": "python",
   "pygments_lexer": "ipython3",
   "version": "3.10.10"
  }
 },
 "nbformat": 4,
 "nbformat_minor": 2
}
