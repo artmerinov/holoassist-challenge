{
 "cells": [
  {
   "cell_type": "code",
   "execution_count": 1,
   "metadata": {},
   "outputs": [],
   "source": [
    "import av\n",
    "import numpy as np\n",
    "import torch \n",
    "from typing import List, Tuple\n",
    "from numpy.random import randint\n",
    "\n",
    "import matplotlib.pyplot as plt\n",
    "%matplotlib inline"
   ]
  },
  {
   "cell_type": "code",
   "execution_count": 2,
   "metadata": {},
   "outputs": [],
   "source": [
    "import os\n",
    "os.chdir('../')\n",
    "\n",
    "from src.opts.opts import parser\n",
    "\n",
    "from src.dataset.prepare_split_list import get_video_name_list\n",
    "from src.dataset.video_dataset import prepare_clips_data\n",
    "from src.dataset.frame_loader import load_av_frames_from_video\n",
    "from src.dataset.temporal_sampling import temporal_sampling\n",
    "\n",
    "from src.hands.loader import read_hand_pose_txt, load_hands_coords, make_paths_to_hands\n",
    "from src.hands.temporal_sampling import hands_temporal_sampling\n",
    "from src.hands.vis import vis_hands_skeleton\n",
    "from src.hands.graph import joints"
   ]
  },
  {
   "cell_type": "code",
   "execution_count": 3,
   "metadata": {},
   "outputs": [
    {
     "data": {
      "text/plain": [
       "{'holoassist_dir': '/Users/artemmerinov/data/holoassist',\n",
       " 'raw_annotation_file': '/Users/artemmerinov/data/holoassist/data-annotation-trainval-v1_1.json',\n",
       " 'split_dir': '/Users/artemmerinov/data/holoassist/data-splits-v1',\n",
       " 'fine_grained_actions_map_file': '/Users/artemmerinov/data/holoassist/fine_grained_actions_map.txt',\n",
       " 'base_model': 'InceptionV3',\n",
       " 'fusion_mode': None,\n",
       " 'num_segments': 8,\n",
       " 'num_classes': 1887,\n",
       " 'resume': None,\n",
       " 'start_epoch': 0,\n",
       " 'num_epochs': 10,\n",
       " 'lr': 0.01,\n",
       " 'momentum': 0.9,\n",
       " 'weight_decay': 0.0005,\n",
       " 'clip_gradient': None,\n",
       " 'batch_size': 16,\n",
       " 'num_workers': 4,\n",
       " 'prefetch_factor': 2,\n",
       " 'debug': False}"
      ]
     },
     "execution_count": 3,
     "metadata": {},
     "output_type": "execute_result"
    }
   ],
   "source": [
    "args = parser.parse_args(args=[])\n",
    "args.__dict__"
   ]
  },
  {
   "cell_type": "code",
   "execution_count": 4,
   "metadata": {},
   "outputs": [
    {
     "name": "stdout",
     "output_type": "stream",
     "text": [
      "There are 7 videos in the list There are 13 videos as video files There are 0 videos that present in the list but are missing as videos.\n"
     ]
    },
    {
     "data": {
      "text/plain": [
       "['R0027-12-GoPro',\n",
       " 'R029-12July-DSLR',\n",
       " 'R034-12July-Switch',\n",
       " 'R061-15July-Belt',\n",
       " 'z183-sep-08-22-marius_disassemble',\n",
       " 'z090-july-08-22-printer_small',\n",
       " 'z206-sep-26-22-gopro']"
      ]
     },
     "execution_count": 4,
     "metadata": {},
     "output_type": "execute_result"
    }
   ],
   "source": [
    "video_name_list = get_video_name_list(\n",
    "    split_dir=args.split_dir,\n",
    "    holoassist_dir=args.holoassist_dir,\n",
    "    mode=\"train\"\n",
    ")\n",
    "video_name_list"
   ]
  },
  {
   "cell_type": "code",
   "execution_count": 5,
   "metadata": {},
   "outputs": [
    {
     "data": {
      "text/plain": [
       "('/Users/artemmerinov/data/holoassist/hands/R029-12July-DSLR/Export_py/Hands/Left_sync.txt',\n",
       " '/Users/artemmerinov/data/holoassist/hands/R029-12July-DSLR/Export_py/Hands/Right_sync.txt')"
      ]
     },
     "execution_count": 5,
     "metadata": {},
     "output_type": "execute_result"
    }
   ],
   "source": [
    "make_paths_to_hands(\n",
    "    holoassist_dir=args.holoassist_dir,\n",
    "    video_name=\"R029-12July-DSLR\",\n",
    ")"
   ]
  },
  {
   "cell_type": "code",
   "execution_count": 6,
   "metadata": {},
   "outputs": [],
   "source": [
    "left_hand_data, right_hand_data = load_hands_coords(\n",
    "    holoassist_dir=args.holoassist_dir,\n",
    "    video_name=\"R029-12July-DSLR\",\n",
    "    start_secs=60,\n",
    "    end_secs=70\n",
    ")"
   ]
  },
  {
   "cell_type": "code",
   "execution_count": 7,
   "metadata": {},
   "outputs": [
    {
     "data": {
      "text/plain": [
       "torch.Size([299, 26, 3])"
      ]
     },
     "execution_count": 7,
     "metadata": {},
     "output_type": "execute_result"
    }
   ],
   "source": [
    "left_hand_data.shape"
   ]
  },
  {
   "cell_type": "code",
   "execution_count": 8,
   "metadata": {},
   "outputs": [
    {
     "data": {
      "text/plain": [
       "tensor([[[ 0.4920,  2.5695, -0.5036],\n",
       "         [ 0.4409,  2.5598, -0.5026],\n",
       "         [ 0.4574,  2.5716, -0.4807],\n",
       "         ...,\n",
       "         [ 0.5445,  2.5388, -0.5236],\n",
       "         [ 0.5592,  2.5271, -0.5200],\n",
       "         [ 0.5692,  2.5187, -0.5127]],\n",
       "\n",
       "        [[ 0.4917,  2.5697, -0.5037],\n",
       "         [ 0.4406,  2.5600, -0.5026],\n",
       "         [ 0.4571,  2.5719, -0.4808],\n",
       "         ...,\n",
       "         [ 0.5441,  2.5390, -0.5237],\n",
       "         [ 0.5589,  2.5273, -0.5200],\n",
       "         [ 0.5690,  2.5190, -0.5128]],\n",
       "\n",
       "        [[ 0.4915,  2.5697, -0.5040],\n",
       "         [ 0.4404,  2.5599, -0.5030],\n",
       "         [ 0.4569,  2.5718, -0.4811],\n",
       "         ...,\n",
       "         [ 0.5441,  2.5391, -0.5237],\n",
       "         [ 0.5588,  2.5275, -0.5200],\n",
       "         [ 0.5688,  2.5192, -0.5127]],\n",
       "\n",
       "        ...,\n",
       "\n",
       "        [[ 0.5238,  2.5529, -0.5209],\n",
       "         [ 0.4721,  2.5481, -0.5235],\n",
       "         [ 0.4866,  2.5576, -0.5043],\n",
       "         ...,\n",
       "         [ 0.5787,  2.5208, -0.5370],\n",
       "         [ 0.5947,  2.5102, -0.5342],\n",
       "         [ 0.6057,  2.5027, -0.5275]],\n",
       "\n",
       "        [[ 0.5238,  2.5528, -0.5210],\n",
       "         [ 0.4720,  2.5481, -0.5236],\n",
       "         [ 0.4866,  2.5576, -0.5043],\n",
       "         ...,\n",
       "         [ 0.5786,  2.5206, -0.5369],\n",
       "         [ 0.5947,  2.5101, -0.5341],\n",
       "         [ 0.6057,  2.5025, -0.5274]],\n",
       "\n",
       "        [[ 0.5237,  2.5530, -0.5210],\n",
       "         [ 0.4719,  2.5482, -0.5235],\n",
       "         [ 0.4865,  2.5577, -0.5043],\n",
       "         ...,\n",
       "         [ 0.5786,  2.5208, -0.5369],\n",
       "         [ 0.5947,  2.5103, -0.5341],\n",
       "         [ 0.6056,  2.5028, -0.5273]]])"
      ]
     },
     "execution_count": 8,
     "metadata": {},
     "output_type": "execute_result"
    }
   ],
   "source": [
    "left_hand_data"
   ]
  },
  {
   "cell_type": "code",
   "execution_count": 9,
   "metadata": {},
   "outputs": [
    {
     "data": {
      "text/plain": [
       "(array([0.02439024, 0.12195122, 0.34146341, 0.46341463, 0.48780488,\n",
       "        0.6097561 , 0.7804878 , 0.87804878]),\n",
       " [<av.VideoFrame #79, pts=281499966 yuv420p 896x504 at 0x7fcc883eb990>,\n",
       "  <av.VideoFrame #83, pts=281621538 yuv420p 896x504 at 0x7fcc883ebb50>,\n",
       "  <av.VideoFrame #92, pts=281895075 yuv420p 896x504 at 0x7fcc883ebf40>,\n",
       "  <av.VideoFrame #97, pts=282047040 yuv420p 896x504 at 0x7fcc884b8200>,\n",
       "  <av.VideoFrame #98, pts=282077433 yuv420p 896x504 at 0x7fcc884b8270>,\n",
       "  <av.VideoFrame #103, pts=282229398 yuv420p 896x504 at 0x7fcc884b84a0>,\n",
       "  <av.VideoFrame #110, pts=282442149 yuv420p 896x504 at 0x7fcc884b87b0>,\n",
       "  <av.VideoFrame #114, pts=282563721 yuv420p 896x504 at 0x7fcc884b8970>])"
      ]
     },
     "execution_count": 9,
     "metadata": {},
     "output_type": "execute_result"
    }
   ],
   "source": [
    "# Extract frames from video using start and end time. \n",
    "frames = load_av_frames_from_video(\n",
    "    path_to_video=\"/Users/artemmerinov/data/holoassist/video_pitch_shifted/R0027-12-GoPro/Export_py/Video_pitchshift.mp4\",\n",
    "    start_secs=378.588, \n",
    "    end_secs=380.211,\n",
    ")\n",
    "\n",
    "# Perform temporal sampling\n",
    "sampling_portions, frames = temporal_sampling(\n",
    "    frames=frames,\n",
    "    num_segments=8,\n",
    "    mode=\"train\"\n",
    ")\n",
    "sampling_portions, frames"
   ]
  },
  {
   "cell_type": "code",
   "execution_count": 10,
   "metadata": {},
   "outputs": [
    {
     "data": {
      "text/plain": [
       "(torch.Size([8, 26, 3]), torch.Size([8, 26, 3]))"
      ]
     },
     "execution_count": 10,
     "metadata": {},
     "output_type": "execute_result"
    }
   ],
   "source": [
    "left_hand_data = hands_temporal_sampling(\n",
    "    data=left_hand_data, \n",
    "    sampling_portions=sampling_portions\n",
    ")\n",
    "right_hand_data = hands_temporal_sampling(\n",
    "    data=right_hand_data, \n",
    "    sampling_portions=sampling_portions\n",
    ")\n",
    "\n",
    "left_hand_data.size(), right_hand_data.size()"
   ]
  },
  {
   "cell_type": "code",
   "execution_count": null,
   "metadata": {},
   "outputs": [],
   "source": []
  },
  {
   "cell_type": "code",
   "execution_count": null,
   "metadata": {},
   "outputs": [],
   "source": []
  },
  {
   "cell_type": "code",
   "execution_count": null,
   "metadata": {},
   "outputs": [],
   "source": []
  },
  {
   "cell_type": "code",
   "execution_count": null,
   "metadata": {},
   "outputs": [],
   "source": []
  }
 ],
 "metadata": {
  "kernelspec": {
   "display_name": ".venv",
   "language": "python",
   "name": "python3"
  },
  "language_info": {
   "codemirror_mode": {
    "name": "ipython",
    "version": 3
   },
   "file_extension": ".py",
   "mimetype": "text/x-python",
   "name": "python",
   "nbconvert_exporter": "python",
   "pygments_lexer": "ipython3",
   "version": "3.10.10"
  }
 },
 "nbformat": 4,
 "nbformat_minor": 2
}
