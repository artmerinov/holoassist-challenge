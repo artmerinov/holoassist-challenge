{
 "cells": [
  {
   "cell_type": "code",
   "execution_count": 8,
   "metadata": {},
   "outputs": [],
   "source": [
    "from collections import Counter\n",
    "import json"
   ]
  },
  {
   "cell_type": "code",
   "execution_count": 2,
   "metadata": {},
   "outputs": [],
   "source": [
    "with open(\"/Users/artemmerinov/data/holoassist/data-annotation-trainval-v1_1.json\") as f:\n",
    "    raw_annt = json.load(f)\n",
    "\n",
    "errors = []\n",
    "for video in raw_annt:\n",
    "    name = video[\"video_name\"]\n",
    "    events = video[\"events\"]\n",
    "    for event in events:\n",
    "        if event[\"label\"] == \"Fine grained action\":\n",
    "            if \"Wrong Action\" in event[\"attributes\"][\"Action Correctness\"]:\n",
    "                error_explanation = event[\"attributes\"][\"Incorrect Action Explanation\"]\n",
    "                errors.append(error_explanation)"
   ]
  },
  {
   "cell_type": "code",
   "execution_count": 4,
   "metadata": {},
   "outputs": [
    {
     "data": {
      "text/plain": [
       "7205"
      ]
     },
     "execution_count": 4,
     "metadata": {},
     "output_type": "execute_result"
    }
   ],
   "source": [
    "len(errors)"
   ]
  },
  {
   "cell_type": "code",
   "execution_count": 14,
   "metadata": {},
   "outputs": [
    {
     "data": {
      "text/plain": [
       "[('The student drops the hex socket head.', 60),\n",
       " ('The student presses the wrong button.', 54),\n",
       " ('The student accidentally dropped the screw', 31),\n",
       " ('The student touches the wrong place.', 30),\n",
       " ('The student drops the hex_socket_head.', 30),\n",
       " ('The student drops the allen_wrench.', 30),\n",
       " ('The student should not drop the hex socket head.', 27),\n",
       " ('Student fails this procedure.', 25),\n",
       " ('The student drops the screw by accident.', 25),\n",
       " ('The student drops the Allen wrench.', 24),\n",
       " ('The student drops the allen wrench.', 22),\n",
       " ('The student drops the screw.', 22),\n",
       " ('The student drops the screw accidentally.', 22),\n",
       " ('The student should not drop the screw.', 21),\n",
       " ('Student should not drop the hex socket head.', 21),\n",
       " ('The student cannot satisfactorily complete the task.', 19),\n",
       " ('The student should not drop the allen_wrench.', 18),\n",
       " ('Student should not drop the Allen key.', 17),\n",
       " ('The student should not drop the hex_socket_head.', 17),\n",
       " ('Failed action.', 17),\n",
       " ('The lens is not inserted correctly.', 16),\n",
       " ('The student should not drop allen_wrench.', 15),\n",
       " ('The student should not drop the allen wrench.', 15),\n",
       " ('The student drops the hexagon cap nut by accident.', 15),\n",
       " ('The student accidentally drops the allen wrench.', 14),\n",
       " ('The way how the student puts the cartridge is wrong.', 14),\n",
       " ('The student should not drop the Allen wrench.', 13),\n",
       " ('The student drops the hex socket head by accident.', 13),\n",
       " ('The student drops the bracket by accident.', 13),\n",
       " ('The student accidentally dropped the wrench', 13)]"
      ]
     },
     "execution_count": 14,
     "metadata": {},
     "output_type": "execute_result"
    }
   ],
   "source": [
    "Counter(errors).most_common(30)"
   ]
  },
  {
   "cell_type": "code",
   "execution_count": null,
   "metadata": {},
   "outputs": [],
   "source": [
    "# drops can be considered as pick smth up or put smth down\n",
    "# need another dataloader (same speed, e.g. 1fps-2fps)\n",
    "# use history? nont only trimmed clip"
   ]
  },
  {
   "cell_type": "code",
   "execution_count": null,
   "metadata": {},
   "outputs": [],
   "source": []
  }
 ],
 "metadata": {
  "kernelspec": {
   "display_name": ".venv",
   "language": "python",
   "name": "python3"
  },
  "language_info": {
   "codemirror_mode": {
    "name": "ipython",
    "version": 3
   },
   "file_extension": ".py",
   "mimetype": "text/x-python",
   "name": "python",
   "nbconvert_exporter": "python",
   "pygments_lexer": "ipython3",
   "version": "3.10.10"
  }
 },
 "nbformat": 4,
 "nbformat_minor": 2
}
