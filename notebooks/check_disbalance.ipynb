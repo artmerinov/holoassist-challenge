{
 "cells": [
  {
   "cell_type": "markdown",
   "metadata": {},
   "source": [
    "Check acccurately disbalance proportion. It should be approx 0.06"
   ]
  },
  {
   "cell_type": "code",
   "execution_count": 1,
   "metadata": {},
   "outputs": [],
   "source": [
    "import os\n",
    "os.chdir('../')\n",
    "\n",
    "from src.dataset.prepare_annotation import prepare_annotation\n",
    "from src.dataset.prepare_split_list import get_video_name_list\n"
   ]
  },
  {
   "cell_type": "code",
   "execution_count": 38,
   "metadata": {},
   "outputs": [
    {
     "data": {
      "text/plain": [
       "(7562, 141691)"
      ]
     },
     "execution_count": 38,
     "metadata": {},
     "output_type": "execute_result"
    }
   ],
   "source": [
    "# All data (train + validation)\n",
    "\n",
    "annt = prepare_annotation(\n",
    "    raw_annotation_file=\"/Users/artemmerinov/data/holoassist/data-annotation-trainval-v1_1.json\"\n",
    ")\n",
    "\n",
    "mistake_cnt = 0\n",
    "correct_cnt = 0\n",
    "\n",
    "for video_name, video_clip_info_list in annt.items():\n",
    "    for clip_info in video_clip_info_list:\n",
    "        if clip_info[\"Mistake\"] == 1:\n",
    "            mistake_cnt += 1\n",
    "        else:\n",
    "            correct_cnt += 1\n",
    "\n",
    "mistake_cnt, correct_cnt"
   ]
  },
  {
   "cell_type": "code",
   "execution_count": 44,
   "metadata": {},
   "outputs": [
    {
     "data": {
      "text/plain": [
       "0.05336965650605896"
      ]
     },
     "execution_count": 44,
     "metadata": {},
     "output_type": "execute_result"
    }
   ],
   "source": [
    "7562/141691"
   ]
  },
  {
   "cell_type": "code",
   "execution_count": 42,
   "metadata": {},
   "outputs": [],
   "source": [
    "# Only train\n",
    "\n",
    "annt = prepare_annotation(\n",
    "    raw_annotation_file=\"/data/amerinov/data/holoassist/data-annotation-trainval-v1_1.json\"\n",
    ")\n",
    "\n",
    "video_name_list = get_video_name_list(\n",
    "    split_dir=\"/data/amerinov/data/holoassist/data-splits-v1\", \n",
    "    holoassist_dir=\"/data/amerinov/data/holoassist\",\n",
    "    mode=\"train\"\n",
    ")\n",
    "\n",
    "mistake_cnt = 0\n",
    "correct_cnt = 0\n",
    "\n",
    "for video_name, video_clip_info_list in annt.items():\n",
    "    if video_name in video_name_list:\n",
    "        for clip_info in video_clip_info_list:\n",
    "            if clip_info[\"Mistake\"] == 1:\n",
    "                mistake_cnt += 1\n",
    "            else:\n",
    "                correct_cnt += 1\n",
    "\n",
    "mistake_cnt, correct_cnt"
   ]
  },
  {
   "cell_type": "code",
   "execution_count": null,
   "metadata": {},
   "outputs": [],
   "source": [
    "# 118482, 6277"
   ]
  },
  {
   "cell_type": "code",
   "execution_count": 43,
   "metadata": {},
   "outputs": [
    {
     "data": {
      "text/plain": [
       "0.05297851150385713"
      ]
     },
     "execution_count": 43,
     "metadata": {},
     "output_type": "execute_result"
    }
   ],
   "source": [
    "6277/118482"
   ]
  },
  {
   "cell_type": "code",
   "execution_count": null,
   "metadata": {},
   "outputs": [],
   "source": []
  }
 ],
 "metadata": {
  "kernelspec": {
   "display_name": ".venv",
   "language": "python",
   "name": "python3"
  },
  "language_info": {
   "codemirror_mode": {
    "name": "ipython",
    "version": 3
   },
   "file_extension": ".py",
   "mimetype": "text/x-python",
   "name": "python",
   "nbconvert_exporter": "python",
   "pygments_lexer": "ipython3",
   "version": "3.10.10"
  }
 },
 "nbformat": 4,
 "nbformat_minor": 2
}
