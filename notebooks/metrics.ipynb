{
 "cells": [
  {
   "cell_type": "code",
   "execution_count": 88,
   "metadata": {},
   "outputs": [
    {
     "name": "stdout",
     "output_type": "stream",
     "text": [
      "q=0.01 f1score=0.01 precision=0.05 recall=0.01\n",
      "q=0.06 f1score=0.06 precision=0.06 recall=0.06\n",
      "q=0.11 f1score=0.08 precision=0.06 recall=0.12\n",
      "q=0.17 f1score=0.09 precision=0.06 recall=0.17\n",
      "q=0.22 f1score=0.09 precision=0.06 recall=0.21\n",
      "q=0.27 f1score=0.10 precision=0.06 recall=0.28\n",
      "q=0.32 f1score=0.10 precision=0.06 recall=0.32\n",
      "q=0.37 f1score=0.10 precision=0.06 recall=0.37\n",
      "q=0.43 f1score=0.11 precision=0.06 recall=0.44\n",
      "q=0.48 f1score=0.11 precision=0.06 recall=0.48\n",
      "q=0.53 f1score=0.11 precision=0.06 recall=0.54\n",
      "q=0.58 f1score=0.11 precision=0.06 recall=0.59\n",
      "q=0.64 f1score=0.11 precision=0.06 recall=0.65\n",
      "q=0.69 f1score=0.11 precision=0.06 recall=0.68\n",
      "q=0.74 f1score=0.11 precision=0.06 recall=0.74\n",
      "q=0.79 f1score=0.11 precision=0.06 recall=0.79\n",
      "q=0.84 f1score=0.11 precision=0.06 recall=0.85\n",
      "q=0.90 f1score=0.11 precision=0.06 recall=0.90\n",
      "q=0.95 f1score=0.11 precision=0.06 recall=0.95\n",
      "q=1.00 f1score=0.11 precision=0.06 recall=1.00\n"
     ]
    }
   ],
   "source": [
    "import numpy as np\n",
    "from sklearn.metrics import f1_score, confusion_matrix, fbeta_score, precision_score, roc_auc_score\n",
    "\n",
    "nsamples = 100000\n",
    "trues = np.random.choice([0, 1], size=nsamples, p=[1-0.06, 0.06])\n",
    "\n",
    "for q in np.linspace(0.01, 1.00, num=20):\n",
    "    # q -- prob of \"1\" (mistake)\n",
    "    preds = np.random.choice([0, 1], size=nsamples, p=[1-q, q])\n",
    "    tn, fp, fn, tp = confusion_matrix(trues, preds).ravel()\n",
    "    precision = tp / (tp + fp) \n",
    "    recall = tp / (tp + fn)\n",
    "    f1score = 2 * precision * recall / (precision + recall)\n",
    "    print(f\"q={q:.2f} f1score={f1score:.2f} precision={precision:.2f} recall={recall:.2f}\")"
   ]
  },
  {
   "cell_type": "code",
   "execution_count": 82,
   "metadata": {},
   "outputs": [
    {
     "data": {
      "text/plain": [
       "22.641046606704826"
      ]
     },
     "execution_count": 82,
     "metadata": {},
     "output_type": "execute_result"
    }
   ],
   "source": [
    "2 * 15.00 * 46.15 / (15.00 + 46.15)"
   ]
  },
  {
   "cell_type": "code",
   "execution_count": 81,
   "metadata": {},
   "outputs": [
    {
     "data": {
      "text/plain": [
       "17.50151638767759"
      ]
     },
     "execution_count": 81,
     "metadata": {},
     "output_type": "execute_result"
    }
   ],
   "source": [
    "2 * 60.87 * 10.22 / (60.87 + 10.22)"
   ]
  },
  {
   "cell_type": "code",
   "execution_count": 61,
   "metadata": {},
   "outputs": [
    {
     "data": {
      "text/plain": [
       "0.05881862867616429"
      ]
     },
     "execution_count": 61,
     "metadata": {},
     "output_type": "execute_result"
    }
   ],
   "source": [
    "f1_score(y_true=trues, y_pred=preds, average=\"binary\")"
   ]
  },
  {
   "cell_type": "code",
   "execution_count": 44,
   "metadata": {},
   "outputs": [
    {
     "data": {
      "text/plain": [
       "0.8868"
      ]
     },
     "execution_count": 44,
     "metadata": {},
     "output_type": "execute_result"
    }
   ],
   "source": [
    "f1_score(y_true=trues, y_pred=preds, average=\"micro\")"
   ]
  },
  {
   "cell_type": "code",
   "execution_count": 45,
   "metadata": {},
   "outputs": [
    {
     "data": {
      "text/plain": [
       "0.49807031625521664"
      ]
     },
     "execution_count": 45,
     "metadata": {},
     "output_type": "execute_result"
    }
   ],
   "source": [
    "f1_score(y_true=trues, y_pred=preds, average=\"macro\")"
   ]
  },
  {
   "cell_type": "code",
   "execution_count": 46,
   "metadata": {},
   "outputs": [
    {
     "data": {
      "text/plain": [
       "0.8869678529155754"
      ]
     },
     "execution_count": 46,
     "metadata": {},
     "output_type": "execute_result"
    }
   ],
   "source": [
    "f1_score(y_true=trues, y_pred=preds, average=\"weighted\")"
   ]
  },
  {
   "cell_type": "code",
   "execution_count": 47,
   "metadata": {},
   "outputs": [],
   "source": []
  },
  {
   "cell_type": "code",
   "execution_count": null,
   "metadata": {},
   "outputs": [],
   "source": []
  },
  {
   "cell_type": "code",
   "execution_count": null,
   "metadata": {},
   "outputs": [],
   "source": []
  },
  {
   "cell_type": "code",
   "execution_count": null,
   "metadata": {},
   "outputs": [],
   "source": []
  },
  {
   "cell_type": "code",
   "execution_count": 38,
   "metadata": {},
   "outputs": [
    {
     "data": {
      "text/plain": [
       "array([[1., 0.],\n",
       "       [1., 0.],\n",
       "       [1., 0.],\n",
       "       ...,\n",
       "       [1., 0.],\n",
       "       [1., 0.],\n",
       "       [1., 0.]])"
      ]
     },
     "execution_count": 38,
     "metadata": {},
     "output_type": "execute_result"
    }
   ],
   "source": [
    "nsamples = 10000\n",
    "trues = np.random.choice([0, 1], size=nsamples, p=[0.94, 0.06])\n",
    "\n",
    "preds = np.zeros((nsamples, 2))\n",
    "preds[:, 0] = 1\n",
    "preds"
   ]
  },
  {
   "cell_type": "code",
   "execution_count": 39,
   "metadata": {},
   "outputs": [
    {
     "data": {
      "text/plain": [
       "0.5"
      ]
     },
     "execution_count": 39,
     "metadata": {},
     "output_type": "execute_result"
    }
   ],
   "source": [
    "rocauc = roc_auc_score(\n",
    "    y_true=trues, # [0, 0, ...]\n",
    "    y_score=preds[:,1], # all zeros\n",
    "    average=\"macro\"\n",
    ")\n",
    "rocauc"
   ]
  },
  {
   "cell_type": "code",
   "execution_count": null,
   "metadata": {},
   "outputs": [],
   "source": []
  }
 ],
 "metadata": {
  "kernelspec": {
   "display_name": ".venv",
   "language": "python",
   "name": "python3"
  },
  "language_info": {
   "codemirror_mode": {
    "name": "ipython",
    "version": 3
   },
   "file_extension": ".py",
   "mimetype": "text/x-python",
   "name": "python",
   "nbconvert_exporter": "python",
   "pygments_lexer": "ipython3",
   "version": "3.12.2"
  }
 },
 "nbformat": 4,
 "nbformat_minor": 2
}
