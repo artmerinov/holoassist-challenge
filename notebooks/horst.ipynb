{
 "cells": [
  {
   "cell_type": "code",
   "execution_count": 29,
   "metadata": {},
   "outputs": [],
   "source": [
    "import os\n",
    "os.chdir('../')\n",
    "\n",
    "import torch\n",
    "from src.horst.models import AttentionRNN"
   ]
  },
  {
   "cell_type": "code",
   "execution_count": 12,
   "metadata": {},
   "outputs": [],
   "source": [
    "def load_checkpoint(model, best=False):\n",
    "    chk = torch.load('/Users/artemmerinov/data/backbones/FAttentionRNN-anticipation_0.25_6_8_rgb_mt5r_best.pth.tar',\n",
    "                     map_location=torch.device('cpu'))\n",
    "    epoch = chk['epoch']\n",
    "    best_perf = chk['best_perf']\n",
    "    perf = chk['perf']\n",
    "    model_state = model.state_dict()\n",
    "    for i in model_state:\n",
    "        if i in chk['state_dict'] and model_state[i].shape != chk['state_dict'][i].shape:\n",
    "            del chk['state_dict'][i]\n",
    "    model.load_state_dict(chk['state_dict'], strict=False)\n",
    "    return epoch, perf, best_perf"
   ]
  },
  {
   "cell_type": "code",
   "execution_count": 13,
   "metadata": {},
   "outputs": [
    {
     "name": "stderr",
     "output_type": "stream",
     "text": [
      "/Users/artemmerinov/PycharmProjects/holoassist-challenge/.venv/lib/python3.10/site-packages/timm/models/_factory.py:117: UserWarning: Mapping deprecated model name swin_base_patch4_window7_224_in22k to current swin_base_patch4_window7_224.ms_in22k.\n",
      "  model = create_fn(\n"
     ]
    }
   ],
   "source": [
    "model = AttentionRNN(num_a=1887, pretrain=False, backbone=\"swin-base\") "
   ]
  },
  {
   "cell_type": "code",
   "execution_count": 14,
   "metadata": {},
   "outputs": [
    {
     "name": "stdout",
     "output_type": "stream",
     "text": [
      "Loaded checkpoint for model <class 'src.horst.models.AttentionRNN'>. Epoch: 18. Perf: 18.45.\n"
     ]
    }
   ],
   "source": [
    "epoch, perf, _ = load_checkpoint(model, best=True)\n",
    "print(f\"Loaded checkpoint for model {type(model)}. Epoch: {epoch}. Perf: {perf:0.2f}.\")"
   ]
  },
  {
   "cell_type": "code",
   "execution_count": 15,
   "metadata": {},
   "outputs": [
    {
     "name": "stdout",
     "output_type": "stream",
     "text": [
      "torch.Size([1, 14, 1887])\n"
     ]
    }
   ],
   "source": [
    "print(model(torch.randn(1,14,3,224,224)).shape) # B, T, C, H, W"
   ]
  },
  {
   "cell_type": "code",
   "execution_count": 22,
   "metadata": {},
   "outputs": [
    {
     "name": "stdout",
     "output_type": "stream",
     "text": [
      "Total number of learnable parameters: 281419440\n"
     ]
    }
   ],
   "source": [
    "learnable_named_parameters = [\n",
    "    (name, p) for name, p in model.named_parameters() if p.requires_grad\n",
    "]\n",
    "\n",
    "total_params = sum(p.numel() for _, p in learnable_named_parameters)\n",
    "print(f'Total number of learnable parameters: {total_params}', flush=True)"
   ]
  },
  {
   "cell_type": "code",
   "execution_count": null,
   "metadata": {},
   "outputs": [],
   "source": []
  },
  {
   "cell_type": "code",
   "execution_count": null,
   "metadata": {},
   "outputs": [],
   "source": []
  },
  {
   "cell_type": "code",
   "execution_count": null,
   "metadata": {},
   "outputs": [],
   "source": []
  }
 ],
 "metadata": {
  "kernelspec": {
   "display_name": ".venv",
   "language": "python",
   "name": "python3"
  },
  "language_info": {
   "codemirror_mode": {
    "name": "ipython",
    "version": 3
   },
   "file_extension": ".py",
   "mimetype": "text/x-python",
   "name": "python",
   "nbconvert_exporter": "python",
   "pygments_lexer": "ipython3",
   "version": "3.10.10"
  }
 },
 "nbformat": 4,
 "nbformat_minor": 2
}
