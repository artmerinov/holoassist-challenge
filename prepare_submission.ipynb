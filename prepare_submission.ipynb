{
 "cells": [
  {
   "cell_type": "code",
   "execution_count": 1,
   "metadata": {},
   "outputs": [],
   "source": [
    "import gc\n",
    "import os\n",
    "import time\n",
    "from datetime import datetime\n",
    "import argparse\n",
    "\n",
    "import torch\n",
    "import torch.nn as nn\n",
    "from torch.nn.utils import clip_grad_norm_\n",
    "from torchvision.transforms import Compose\n",
    "from torch.utils.data import DataLoader\n",
    "from torch.optim.lr_scheduler import CosineAnnealingLR, MultiStepLR\n",
    "import torch.nn.functional as F\n",
    "\n",
    "from src.opts.opts import parser\n",
    "from src.utils.reproducibility import make_reproducible\n",
    "from src.models.model import VideoModel\n",
    "from src.dataset.video_dataset import VideoDatasetTest, prepare_clips_data_test\n",
    "from src.dataset.video_transforms import GroupMultiScaleCrop, Stack, ToTorchFormatTensor, GroupNormalize\n",
    "from src.utils.meters import AverageMeter\n",
    "from src.utils.metrics import calc_accuracy"
   ]
  },
  {
   "cell_type": "code",
   "execution_count": 2,
   "metadata": {},
   "outputs": [],
   "source": [
    "from collections import defaultdict\n",
    "import json\n",
    "from typing import Dict, Any, Callable, Literal\n",
    "import numpy as np\n",
    "from torch.utils.data import Dataset\n",
    "\n",
    "from src.dataset.utils import make_video_path\n",
    "from src.dataset.video_dataset import prepare_clips_data, prepare_clips_data_test\n",
    "from src.dataset.video_dataset import VideoDatasetTest\n",
    "\n",
    "%load_ext autoreload\n",
    "%autoreload 2"
   ]
  },
  {
   "cell_type": "code",
   "execution_count": 3,
   "metadata": {},
   "outputs": [
    {
     "name": "stdout",
     "output_type": "stream",
     "text": [
      "\u001b[1m\u001b[36mDiving\u001b[m\u001b[m                             data-annotation-trainval-v1_1.json\n",
      "\u001b[1m\u001b[36mMNIST\u001b[m\u001b[m                              \u001b[1m\u001b[36mholoassist\u001b[m\u001b[m\n",
      "\u001b[1m\u001b[36mSAINT\u001b[m\u001b[m                              \u001b[1m\u001b[36moberalp\u001b[m\u001b[m\n",
      "\u001b[1m\u001b[36mbackbones\u001b[m\u001b[m                          \u001b[1m\u001b[36mucf101\u001b[m\u001b[m\n",
      "\u001b[1m\u001b[36mceleba_hq_256\u001b[m\u001b[m                      video_pitch_shifted.tar\n"
     ]
    }
   ],
   "source": [
    "!ls /Users/artemmerinov/data/"
   ]
  },
  {
   "cell_type": "code",
   "execution_count": 4,
   "metadata": {},
   "outputs": [
    {
     "name": "stdout",
     "output_type": "stream",
     "text": [
      "Number of successful fine-grained clips: 52 \n",
      "Number of failed fine-grained clips: 40497 \n",
      "Number of successful videos: 1 \n",
      "Number of failed videos: 462 \n",
      "Failed video names are: {'z089-july-07-22-espresso', 'z064-june-29-22-marius_assemble', 'z124-aug-10-22-switch', 'R065-15July-Belt', 'z009-june-15-22-gladom_assemble', 'z145-aug-18-22-marius_disassemble', 'z076-july-01-22-printer_small', 'R162-3Oct-RAM', 'z027-june-22-22-switch', 'z141-aug-16-22-dslr', 'R145-02Sep-RAM', 'z183-sep-08-22-gopro', 'z088-july-07-22-printer_big', 'z203-sep-24-22-nespresso', 'z168-sep-01-22-gopro', 'z078-july-01-22-gladom_assemble', 'z053-june-27-22-marius_disassemble', 'z131-aug-11-22-knarrevik_assemble', 'z197-sep-18-22-knarrevik_disassemble', 'z045-june-24-22-marius_disassemble', 'R051-13July-SmallPrinter', 'z173-sep-04-22-printer_big', 'z200-sep-22-22-knarrevik_disassemble', 'z151-aug-25-22-gladom_disassemble', 'z160-aug-29-22-dslr', 'z055-june-27-22-rashult_disassemble', 'z083-july-06-22-gladom_disassemble', 'z133-aug-12-22-rashult_disassemble', 'z131-aug-11-22-switch', 'z187-sep-09-22-knarrevik_assemble', 'z154-aug-26-22-gopro', 'z148-aug-20-22-printer_big', 'z195-sep-17-22-printer_small', 'z020-june-20-22-gopro', 'z102-july-13-22-nespresso', 'z182-sep-08-22-rashult_disassemble', 'z156-aug-26-22-rashult_assemble', 'z062-june-29-22-knarrevik_assemble', 'z133-aug-12-22-printer_big', 'z118-aug-05-22-gladom_assemble', 'z011-june-16-22-switch', 'z105-july-14-22-knarrevik_disassemble', 'R203-7Nov-ATV', 'z179-sep-06-22-gladom_assemble', 'z011-june-16-22-nespresso', 'z130-aug-11-22-gladom_disassemble', 'z181-sep-07-22-printer_small', 'z082-july-06-22-gopro', 'z117-aug-05-22-knarrevik_assemble', 'z134-aug-13-22-espresso', 'z151-aug-25-22-switch', 'z130-aug-11-22-dslr', 'z068-june-29-22-knarrevik_assemble', 'z069-june-29-22-switch', 'z022-june-21-22-printer_small', 'z154-aug-26-22-dslr', 'R124-15Aug-Belt', 'z083-july-06-22-gladom_assemble', 'z206-sep-26-22-marius_assemble', 'R213-16Nov-GraphicsCard', 'z194-sep-16-22-rashult_assemble', 'z210-sep-29-22-dslr', 'z202-sep-23-22-rashult_assemble', 'z105-july-14-22-knarrevik_assemble', 'z021-june-20-22-gladom_disassemble', 'z198-sep-18-22-rashult_disassemble', 'z204-sep-25-22-switch', 'z192-sep-11-22-knarrevik_disassemble', 'z153-aug-25-22-marius_assemble', 'z165-aug-31-22-dslr', 'R088-July29-BigPrinter', 'z183-sep-08-22-knarrevik_disassemble', 'z137-aug-14-22-knarrevik_disassemble', 'R092-28July-ATV', 'z154-aug-26-22-marius_disassemble', 'z116-aug-05-22-printer_small', 'z169-sep-02-22-espresso', 'z117-aug-05-22-marius_disassemble', 'z198-sep-18-22-gladom_assemble', 'z129-aug-11-22-marius_disassemble', 'z075-july-01-22-printer_small', 'z090-july-08-22-rashult_disassemble', 'z130-aug-11-22-nespresso', 'z072-july-01-22-marius_disassemble', 'z023-june-21-22-rashult_assemble', 'z051-june-27-22-nespresso', 'z156-aug-26-22-printer_small', 'z085-july-06-22-gladom_disassemble', 'z177-sep-05-22-knarrevik_disassemble', 'z051-june-27-22-dslr', 'z150-aug-22-22-nespresso', 'z197-sep-18-22-espresso', 'z144-aug-18-22-switch', 'z059-june-28-22-knarrevik_disassemble', 'z134-aug-13-22-knarrevik_disassemble', 'z077-july-01-22-printer_big', 'z032-june-22-22-marius_assemble', 'z178-sep-05-22-nespresso', 'z069-june-29-22-gladom_assemble', 'R181-12Oct-Graphicscard', 'z057-june-28-22-knarrevik_assemble', 'z204-sep-25-22-knarrevik_assemble', 'z166-sep-01-22-marius_assemble', 'z054-june-27-22-switch', 'z022-june-21-22-printer_big', 'z124-aug-10-22-printer_big', 'R091-29July-Belt', 'R103-2Aug-GoPro', 'R078-21July-Nespresso', 'z045-june-24-22-printer_small', 'z039-june-23-22-marius_assemble', 'R121-15Aug-ATV', 'z069-june-29-22-marius_disassemble', 'z190-sep-10-22-printer_big', 'z072-july-01-22-knarrevik_disassemble', 'z192-sep-11-22-rashult_assemble', 'z161-aug-29-22-gladom_disassemble', 'z193-sep-16-22-knarrevik_assemble', 'z181-sep-07-22-nespresso', 'z050-june-27-22-knarrevik_disassemble', 'z173-sep-04-22-gopro', 'z117-aug-05-22-gladom_disassemble', 'z097-july-12-22-printer_small', 'z095-july-11-22-gopro', 'z095-july-11-22-knarrevik_assemble', 'R038-13July-Switch', 'z101-july-13-22-dslr', 'R079-21July-Coffee', 'z198-sep-18-22-espresso', 'R074-20July-Nespresso', 'z130-aug-11-22-gopro', 'z062-june-29-22-printer_small', 'z116-aug-05-22-marius_assemble', 'z048-june-25-22-knarrevik_assemble', 'z078-july-01-22-dslr', 'z185-sep-09-22-gopro', 'R132-26Aug-GraphicsCard', 'R201-7Nov-ATV', 'z194-sep-16-22-switch', 'z068-june-29-22-knarrevik_disassemble', 'z173-sep-04-22-knarrevik_disassemble', 'z026-june-22-22-switch', 'z057-june-28-22-dslr', 'z060-june-28-22-espresso', 'z175-sep-05-22-rashult_disassemble', 'R106-4Aug-Nespresso', 'z203-sep-24-22-gladom_disassemble', 'z048-june-25-22-gopro', 'z021-june-20-22-gladom_assemble', 'z068-june-29-22-gladom_assemble', 'z090-july-08-22-gladom_disassemble', 'z066-june-29-22-rashult_disassemble', 'z135-aug-13-22-gladom_disassemble', 'z170-sep-03-22-rashult_assemble', 'z208-sep-27-22-gladom_disassemble', 'z151-aug-25-22-gopro', 'z142-aug-17-22-gladom_assemble', 'z153-aug-25-22-rashult_disassemble', 'z101-july-13-22-gladom_assemble', 'z195-sep-17-22-gladom_assemble', 'z057-june-28-22-rashult_disassemble', 'z172-sep-03-22-dslr', 'z081-july-06-22-knarrevik_disassemble', 'R211-16Nov-RAM', 'z199-sep-21-22-gopro', 'z055-june-27-22-marius_assemble', 'z019-june-20-22-knarrevik_disassemble', 'z161-aug-29-22-marius_disassemble', 'z028-june-22-22-rashult_disassemble', 'z205-sep-25-22-dslr', 'z158-aug-28-22-nespresso', 'z013-june-16-22-gopro', 'R111-8Aug-Navvis-Part1', 'R206-11Nov-CircuitBreaker', 'z021-june-20-22-knarrevik_disassemble', 'z195-sep-17-22-marius_disassemble', 'z185-sep-09-22-gladom_disassemble', 'R070-19July-Nespresso', 'z196-sep-17-22-knarrevik_disassemble', 'z093-july-11-22-marius_disassemble', 'R135-31Aug-Graphicscard', 'z053-june-27-22-knarrevik_assemble', 'z188-sep-10-22-gladom_assemble', 'z066-june-29-22-gladom_assemble', 'z143-aug-17-22-marius_disassemble', 'z198-sep-18-22-nespresso', 'z164-aug-31-22-printer_big', 'z204-sep-25-22-marius_disassemble', 'z129-aug-11-22-knarrevik_disassemble', 'R102-2Aug-DSLR', 'z010-june-16-22-rashult_disassemble', 'z028-june-22-22-dslr', 'z112-aug-03-22-marius_assemble', 'z130-aug-11-22-knarrevik_disassemble', 'z066-june-29-22-knarrevik_disassemble', 'z015-june-17-22-gopro', 'z175-sep-05-22-printer_small', 'z201-sep-22-22-knarrevik_assemble', 'z010-june-16-22-gladom_disassemble', 'R106-4Aug-Coffee', 'R212-16Nov-GraphicsCard', 'z184-sep-08-22-rashult_disassemble', 'z145-aug-18-22-switch', 'z200-sep-22-22-gopro', 'z164-aug-31-22-gopro', 'z058-june-28-22-switch', 'z168-sep-01-22-printer_big', 'z165-aug-31-22-knarrevik_assemble', 'z121-aug-09-22-gladom_disassemble', 'R214-17Nov-GraphicsCard', 'z081-july-06-22-gladom_assemble', 'z166-sep-01-22-gladom_assemble', 'z136-aug-13-22-nespresso', 'z060-june-28-22-marius_disassemble', 'z096-july-12-22-marius_disassemble', 'z155-aug-26-22-switch', 'z120-aug-09-22-switch', 'R208-11Nov-CircuitBreaker', 'R073-20July-Navvis', 'z045-june-24-22-switch', 'z182-sep-08-22-espresso', 'R054-13July-Navvis', 'z051-june-27-22-gladom_disassemble', 'z074-july-01-22-marius_assemble', 'z096-july-12-22-dslr', 'z059-june-28-22-dslr', 'R032-12July-BigPrinter', 'z104-july-14-22-marius_assemble', 'z168-sep-01-22-dslr', 'z170-sep-03-22-gladom_assemble', 'z108-july-26-22-gladom_disassemble', 'z186-sep-09-22-dslr', 'z020-june-20-22-marius_disassemble', 'z034-june-23-22-dslr', 'R116-10Aug-Navvis-Part2', 'z161-aug-29-22-dslr', 'z101-july-13-22-rashult_disassemble', 'z141-aug-16-22-knarrevik_assemble', 'z026-june-22-22-gladom_assemble', 'z177-sep-05-22-gladom_assemble', 'z095-july-11-22-printer_big', 'z175-sep-05-22-rashult_assemble', 'R067-15July-DSLR', 'R046-13July-SmallPrinter', 'z047-june-25-22-marius_disassemble', 'z044-june-24-22-marius_assemble', 'z031-june-22-22-gopro', 'z203-sep-24-22-rashult_assemble', 'z014-june-17-22-switch', 'z063-june-29-22-marius_assemble', 'z174-sep-04-22-gopro', 'R163-3Oct-RAM', 'z151-aug-25-22-printer_big', 'z109-july-27-22-rashult_disassemble', 'R136-31Aug-RAM', 'z129-aug-11-22-switch', 'z047-june-25-22-printer_small', 'z138-aug-15-22-dslr', 'z032-june-22-22-knarrevik_disassemble', 'z204-sep-25-22-marius_assemble', 'R110-5Aug-Navvis', 'R096-28July-Circuit-Breaker', 'z192-sep-11-22-dslr', 'z147-aug-20-22-gladom_disassemble', 'z157-aug-27-22-knarrevik_assemble', 'z162-aug-30-22-marius_disassemble', 'z139-aug-15-22-switch', 'z142-aug-17-22-nespresso', 'z120-aug-09-22-gladom_disassemble', 'z172-sep-03-22-marius_assemble', 'z036-june-23-22-dslr', 'z199-sep-21-22-knarrevik_assemble', 'z085-july-06-22-gopro', 'z190-sep-10-22-marius_disassemble', 'z056-june-28-22-knarrevik_disassemble', 'z095-july-11-22-printer_small', 'R158-3Oct-RAM & Graphicscard', 'z122-aug-09-22-gladom_disassemble', 'z138-aug-15-22-gopro', 'z122-aug-09-22-rashult_assemble', 'z082-july-06-22-rashult_disassemble', 'z026-june-22-22-marius_disassemble', 'z041-june-24-22-knarrevik_assemble', 'z172-sep-03-22-rashult_assemble', 'z184-sep-08-22-knarrevik_disassemble', 'z008-june-15-22-rashult_disassemble', 'z085-july-06-22-knarrevik_disassemble', 'z015-june-17-22-switch', 'R006-7July-Switch', 'R186-17Oct-RAM', 'z172-sep-03-22-switch', 'z125-aug-10-22-knarrevik_assemble', 'z203-sep-24-22-switch', 'R069-19July-BigPrinter', 'z075-july-01-22-gopro', 'z053-june-27-22-printer_small', 'z140-aug-16-22-switch', 'z032-june-22-22-gladom_assemble', 'z083-july-06-22-printer_big', 'z125-aug-10-22-gladom_disassemble', 'z167-sep-01-22-nespresso', 'z063-june-29-22-dslr', 'z101-july-13-22-printer_big', 'R130-25Aug-GraphicsCard', 'z072-july-01-22-gladom_disassemble', 'z030-june-22-22-gladom_disassemble', 'z208-sep-27-22-knarrevik_disassemble', 'R070-19July-GoPro', 'z038-june-23-22-switch', 'z066-june-29-22-knarrevik_assemble', 'z074-july-01-22-knarrevik_disassemble', 'R097-29July-DSLR', 'R192-24Oct-Belt', 'z054-june-27-22-knarrevik_assemble', 'z160-aug-29-22-printer_big', 'R121-15Aug-Circuit-Breaker', 'z035-june-23-22-dslr', 'R053-13July-Navvis', 'z043-june-24-22-gladom_disassemble', 'z186-sep-09-22-rashult_assemble', 'z075-july-01-22-rashult_disassemble', 'z210-sep-29-22-gladom_disassemble', 'z090-july-08-22-printer_big', 'z048-june-25-22-marius_disassemble', 'z071-june-29-22-rashult_assemble', 'z154-aug-26-22-marius_assemble', 'z101-july-13-22-gladom_disassemble', 'z162-aug-30-22-gladom_disassemble', 'z104-july-14-22-dslr', 'z134-aug-13-22-knarrevik_assemble', 'z054-june-27-22-knarrevik_disassemble', 'z055-june-27-22-knarrevik_disassemble', 'z174-sep-04-22-rashult_assemble', 'z063-june-29-22-printer_big', 'z078-july-01-22-printer_small', 'R080-21July-Switch', 'z015-june-17-22-gladom_disassemble', 'z164-aug-31-22-marius_assemble', 'R058-14July-Switch', 'R204-11Nov-CircuitBreaker', 'z127-aug-10-22-printer_small', 'z084-july-06-22-marius_disassemble', 'z084-july-06-22-gladom_assemble', 'z171-sep-03-22-gladom_disassemble', 'z199-sep-21-22-dslr', 'z047-june-25-22-gopro', 'R147-02Sep-RAM', 'z025-june-21-22-dslr', 'z057-june-28-22-knarrevik_disassemble', 'z144-aug-18-22-rashult_assemble', 'z161-aug-29-22-gopro', 'z096-july-12-22-switch', 'z106-july-14-22-dslr', 'R134-26Aug-GraphicsCard', 'z025-june-21-22-nespresso', 'R086-27July-Switch-Part2', 'z028-june-22-22-knarrevik_assemble', 'z053-june-27-22-printer_big', 'z170-sep-03-22-dslr', 'z024-june-21-22-printer_small', 'R047-13July-GoPro', 'z049-june-27-22-marius_assemble', 'z093-july-11-22-marius_assemble', 'R104-2Aug-Nespresso', 'R100-1Aug-SmallPrinter', 'z194-sep-16-22-gopro', 'z166-sep-01-22-knarrevik_assemble', 'z200-sep-22-22-nespresso', 'z062-june-29-22-switch', 'z056-june-28-22-printer_small', 'z119-aug-08-22-marius_assemble', 'z119-aug-08-22-knarrevik_assemble', 'R067-15July-Nespresso', 'z068-june-29-22-marius_disassemble', 'R188-24Oct-Belt', 'R086-27July-BigPrinter', 'z124-aug-10-22-rashult_assemble', 'z127-aug-10-22-espresso', 'z089-july-07-22-nespresso', 'z201-sep-22-22-printer_small', 'z123-aug-09-22-switch', 'z159-aug-28-22-printer_big', 'z210-sep-29-22-gladom_assemble', 'z114-aug-03-22-switch', 'z205-sep-25-22-gladom_assemble', 'z088-july-07-22-marius_assemble', 'z122-aug-09-22-nespresso', 'z110-aug-02-22-marius_disassemble', 'z096-july-12-22-rashult_disassemble', 'R085-26July-Coffee', 'z165-aug-31-22-rashult_disassemble', 'R179-12Oct-Graphicscard', 'z088-july-07-22-gopro', 'R199-2Nov-RAM', 'z138-aug-15-22-gladom_assemble', 'z028-june-22-22-gladom_disassemble', 'z075-july-01-22-printer_big', 'z023-june-21-22-knarrevik_assemble', 'R207-11Nov-CircuitBreaker', 'z142-aug-17-22-switch', 'R088-28July-SmallPrinter', 'z112-aug-03-22-marius_disassemble', 'z086-july-07-22-marius_disassemble', 'z094-july-11-22-knarrevik_assemble', 'z167-sep-01-22-knarrevik_assemble', 'z051-june-27-22-printer_small', 'z189-sep-10-22-marius_disassemble', 'z170-sep-03-22-marius_disassemble', 'R148-02Sep-Graphicscard', 'z101-july-13-22-printer_small', 'z038-june-23-22-gopro', 'R088-29July-Coffee', 'z171-sep-03-22-knarrevik_disassemble', 'z070-june-29-22-gopro', 'z091-july-08-22-gladom_disassemble', 'z098-july-12-22-marius_disassemble', 'z042-june-24-22-dslr', 'z050-june-27-22-gopro', 'z101-july-13-22-gopro', 'R072-20July-Switch', 'R122-15Aug-Circuit-Breaker', 'z185-sep-09-22-nespresso', 'z209-sep-28-22-marius_assemble', 'R099-1Aug-Navvis', 'z145-aug-18-22-dslr', 'z126-aug-10-22-gladom_assemble', 'z054-june-27-22-gopro', 'z062-june-29-22-printer_big', 'z011-june-16-22-marius_assemble', 'z100-july-13-22-rashult_assemble', 'z036-june-23-22-rashult_assemble', 'z083-july-06-22-marius_assemble', 'z161-aug-29-22-switch', 'R125-16Aug-ATV', 'z029-june-22-22-nespresso', 'z056-june-28-22-marius_assemble', 'z017-june-20-22-gladom_assemble', 'R139-31Aug-Graphicscard', 'z185-sep-09-22-printer_big', 'z110-aug-02-22-switch', 'R004-7July-GoPro', 'z183-sep-08-22-dslr', 'z050-june-27-22-printer_big', 'z200-sep-22-22-rashult_disassemble', 'z134-aug-13-22-gopro', 'z075-july-01-22-espresso', 'z153-aug-25-22-printer_big', 'z045-june-24-22-gladom_disassemble', 'z105-july-14-22-gladom_assemble', 'z092-july-11-22-rashult_disassemble', 'R123-15Aug-Belt', 'z105-july-14-22-gladom_disassemble', 'z122-aug-09-22-rashult_disassemble', 'R013-7July-Nespresso', 'R207-11Nov-ATV-part2', 'z175-sep-05-22-marius_assemble', 'z210-sep-29-22-rashult_assemble', 'z158-aug-28-22-gladom_assemble', 'z095-july-11-22-rashult_disassemble', 'z130-aug-11-22-printer_big', 'z045-june-24-22-marius_assemble', 'z118-aug-05-22-marius_disassemble'}\n"
     ]
    }
   ],
   "source": [
    "key_list, video_name_arr, start_arr, end_arr = prepare_clips_data_test(\n",
    "    holoassist_dir=\"/Users/artemmerinov/data/holoassist/HoloAssist\",\n",
    "    test_action_clips_file=\"/Users/artemmerinov/data//holoassist/test_action_clips.txt\"\n",
    ")"
   ]
  },
  {
   "cell_type": "code",
   "execution_count": 8,
   "metadata": {},
   "outputs": [
    {
     "data": {
      "text/plain": [
       "['z209-sep-28-22-gladom_disassemble_0.963_2.698',\n",
       " 'z209-sep-28-22-gladom_disassemble_2.705_2.969',\n",
       " 'z209-sep-28-22-gladom_disassemble_2.979_3.607',\n",
       " 'z209-sep-28-22-gladom_disassemble_3.614_6.296',\n",
       " 'z209-sep-28-22-gladom_disassemble_6.449_9.233',\n",
       " 'z209-sep-28-22-gladom_disassemble_9.247_11.127',\n",
       " 'z209-sep-28-22-gladom_disassemble_11.137_12.354',\n",
       " 'z209-sep-28-22-gladom_disassemble_12.369_13.447',\n",
       " 'z209-sep-28-22-gladom_disassemble_13.466_15.271',\n",
       " 'z209-sep-28-22-gladom_disassemble_15.298_16.855',\n",
       " 'z209-sep-28-22-gladom_disassemble_16.858_17.221',\n",
       " 'z209-sep-28-22-gladom_disassemble_17.250_20.887',\n",
       " 'z209-sep-28-22-gladom_disassemble_20.904_21.206',\n",
       " 'z209-sep-28-22-gladom_disassemble_21.218_22.577',\n",
       " 'z209-sep-28-22-gladom_disassemble_22.588_24.061',\n",
       " 'z209-sep-28-22-gladom_disassemble_24.072_26.434',\n",
       " 'z209-sep-28-22-gladom_disassemble_26.443_28.365',\n",
       " 'z209-sep-28-22-gladom_disassemble_28.375_29.777',\n",
       " 'z209-sep-28-22-gladom_disassemble_29.795_30.883',\n",
       " 'z209-sep-28-22-gladom_disassemble_30.896_42.414',\n",
       " 'z209-sep-28-22-gladom_disassemble_42.420_42.851',\n",
       " 'z209-sep-28-22-gladom_disassemble_42.865_45.002',\n",
       " 'z209-sep-28-22-gladom_disassemble_45.008_45.301',\n",
       " 'z209-sep-28-22-gladom_disassemble_45.317_47.923',\n",
       " 'z209-sep-28-22-gladom_disassemble_47.928_48.624',\n",
       " 'z209-sep-28-22-gladom_disassemble_48.702_49.819',\n",
       " 'z209-sep-28-22-gladom_disassemble_49.829_50.359',\n",
       " 'z209-sep-28-22-gladom_disassemble_50.373_53.773',\n",
       " 'z209-sep-28-22-gladom_disassemble_53.896_55.338',\n",
       " 'z209-sep-28-22-gladom_disassemble_55.355_56.816',\n",
       " 'z209-sep-28-22-gladom_disassemble_56.827_57.249',\n",
       " 'z209-sep-28-22-gladom_disassemble_57.257_58.463',\n",
       " 'z209-sep-28-22-gladom_disassemble_58.474_59.630',\n",
       " 'z209-sep-28-22-gladom_disassemble_59.639_67.708',\n",
       " 'z209-sep-28-22-gladom_disassemble_67.717_68.197',\n",
       " 'z209-sep-28-22-gladom_disassemble_68.206_69.588',\n",
       " 'z209-sep-28-22-gladom_disassemble_69.600_71.273',\n",
       " 'z209-sep-28-22-gladom_disassemble_71.284_72.088',\n",
       " 'z209-sep-28-22-gladom_disassemble_72.100_72.802',\n",
       " 'z209-sep-28-22-gladom_disassemble_72.924_74.492',\n",
       " 'z209-sep-28-22-gladom_disassemble_74.502_77.551',\n",
       " 'z209-sep-28-22-gladom_disassemble_77.558_78.155',\n",
       " 'z209-sep-28-22-gladom_disassemble_78.165_79.086',\n",
       " 'z209-sep-28-22-gladom_disassemble_79.096_80.586',\n",
       " 'z209-sep-28-22-gladom_disassemble_80.605_93.368',\n",
       " 'z209-sep-28-22-gladom_disassemble_93.376_93.749',\n",
       " 'z209-sep-28-22-gladom_disassemble_93.767_95.355',\n",
       " 'z209-sep-28-22-gladom_disassemble_95.396_96.160',\n",
       " 'z209-sep-28-22-gladom_disassemble_96.326_97.081',\n",
       " 'z209-sep-28-22-gladom_disassemble_97.097_101.969',\n",
       " 'z209-sep-28-22-gladom_disassemble_101.995_105.973',\n",
       " 'z209-sep-28-22-gladom_disassemble_105.994_109.492']"
      ]
     },
     "execution_count": 8,
     "metadata": {},
     "output_type": "execute_result"
    }
   ],
   "source": [
    "key_list"
   ]
  },
  {
   "cell_type": "code",
   "execution_count": 6,
   "metadata": {},
   "outputs": [
    {
     "data": {
      "text/plain": [
       "('z209-sep-28-22-gladom_disassemble', '20.904', '21.206')"
      ]
     },
     "execution_count": 6,
     "metadata": {},
     "output_type": "execute_result"
    }
   ],
   "source": [
    "video_name_arr[12].decode(), start_arr[12].decode(), end_arr[12].decode()"
   ]
  },
  {
   "cell_type": "code",
   "execution_count": 7,
   "metadata": {},
   "outputs": [
    {
     "data": {
      "text/plain": [
       "'z209-sep-28-22-gladom_disassemble_20.904_21.206'"
      ]
     },
     "execution_count": 7,
     "metadata": {},
     "output_type": "execute_result"
    }
   ],
   "source": [
    "f\"{video_name_arr[12].decode()}_{start_arr[12].decode()}_{end_arr[12].decode()}\""
   ]
  },
  {
   "cell_type": "code",
   "execution_count": 7,
   "metadata": {},
   "outputs": [
    {
     "name": "stdout",
     "output_type": "stream",
     "text": [
      "Namespace(holoassist_dir='/Users/artemmerinov/data/holoassist/HoloAssist', test_action_clips_file='/Users/artemmerinov/data/holoassist/test_action_clips.txt', fga_map_file='/Users/artemmerinov/data/holoassist/fine_grained_actions_map.txt', base_model='InceptionV3', fusion_mode='GSF', num_segments=8, batch_size=32, num_workers=12, prefetch_factor=4, repetitions=3, num_classes=1887, checkpoint='/Users/artemmerinov/PycharmProjects/holoassist-challenge/checkpoints/holoassist_InceptionV3_GSF_action_10.pth')\n"
     ]
    }
   ],
   "source": [
    "parser = argparse.ArgumentParser()\n",
    "parser.add_argument(\"--holoassist_dir\", type=str, default=\"/Users/artemmerinov/data/holoassist/HoloAssist\")\n",
    "parser.add_argument(\"--test_action_clips_file\", type=str, default=\"/Users/artemmerinov/data/holoassist/test_action_clips.txt\")\n",
    "parser.add_argument(\"--fga_map_file\", type=str, default=\"/Users/artemmerinov/data/holoassist/fine_grained_actions_map.txt\")\n",
    "parser.add_argument(\"--base_model\", type=str, default=\"InceptionV3\")\n",
    "parser.add_argument(\"--fusion_mode\", type=str, default=\"GSF\")\n",
    "parser.add_argument(\"--num_segments\", type=int, default=8)\n",
    "parser.add_argument(\"--batch_size\", type=int, default=32)\n",
    "parser.add_argument(\"--num_workers\", type=int, default=12)\n",
    "parser.add_argument(\"--prefetch_factor\", type=int, default=4)\n",
    "parser.add_argument(\"--repetitions\", type=int, default=3, help=\"Number of spatial and temporal sampling to achieve better precision in evaluation.\")\n",
    "parser.add_argument(\"--num_classes\", type=int, default=1887)\n",
    "parser.add_argument(\"--checkpoint\", type=str, default=\"/Users/artemmerinov/PycharmProjects/holoassist-challenge/checkpoints/holoassist_InceptionV3_GSF_action_10.pth\", help=\"Best model weigths.\")\n",
    "args = parser.parse_args([])\n",
    "print(args)"
   ]
  },
  {
   "cell_type": "code",
   "execution_count": 8,
   "metadata": {},
   "outputs": [
    {
     "name": "stdout",
     "output_type": "stream",
     "text": [
      "=> Using GSF fusion\n",
      "No. of GSF modules = 11\n",
      "Number of successful fine-grained clips: 52 \n",
      "Number of failed fine-grained clips: 40497 \n",
      "Number of successful videos: 1 \n",
      "Number of failed videos: 462 \n",
      "Failed video names are: {'z028-june-22-22-rashult_disassemble', 'R125-16Aug-ATV', 'z165-aug-31-22-rashult_disassemble', 'z045-june-24-22-printer_small', 'R070-19July-GoPro', 'R080-21July-Switch', 'z201-sep-22-22-printer_small', 'z182-sep-08-22-rashult_disassemble', 'z028-june-22-22-gladom_disassemble', 'R088-29July-Coffee', 'z202-sep-23-22-rashult_assemble', 'z032-june-22-22-gladom_assemble', 'z038-june-23-22-gopro', 'z194-sep-16-22-gopro', 'z124-aug-10-22-printer_big', 'z023-june-21-22-knarrevik_assemble', 'z081-july-06-22-knarrevik_disassemble', 'z090-july-08-22-gladom_disassemble', 'z190-sep-10-22-printer_big', 'z096-july-12-22-dslr', 'z034-june-23-22-dslr', 'z054-june-27-22-switch', 'z116-aug-05-22-marius_assemble', 'R207-11Nov-ATV-part2', 'z023-june-21-22-rashult_assemble', 'z153-aug-25-22-printer_big', 'R078-21July-Nespresso', 'z166-sep-01-22-gladom_assemble', 'z155-aug-26-22-switch', 'z201-sep-22-22-knarrevik_assemble', 'z145-aug-18-22-marius_disassemble', 'z045-june-24-22-marius_disassemble', 'z093-july-11-22-marius_disassemble', 'z130-aug-11-22-gopro', 'z038-june-23-22-switch', 'z036-june-23-22-rashult_assemble', 'z028-june-22-22-knarrevik_assemble', 'z199-sep-21-22-dslr', 'z114-aug-03-22-switch', 'z021-june-20-22-gladom_assemble', 'z057-june-28-22-knarrevik_assemble', 'z172-sep-03-22-rashult_assemble', 'z174-sep-04-22-rashult_assemble', 'z109-july-27-22-rashult_disassemble', 'z097-july-12-22-printer_small', 'z139-aug-15-22-switch', 'z142-aug-17-22-gladom_assemble', 'z124-aug-10-22-switch', 'z062-june-29-22-switch', 'z047-june-25-22-gopro', 'z205-sep-25-22-dslr', 'z101-july-13-22-gladom_disassemble', 'z110-aug-02-22-marius_disassemble', 'z167-sep-01-22-knarrevik_assemble', 'z051-june-27-22-nespresso', 'z030-june-22-22-gladom_disassemble', 'R067-15July-Nespresso', 'z042-june-24-22-dslr', 'R088-28July-SmallPrinter', 'z096-july-12-22-rashult_disassemble', 'R122-15Aug-Circuit-Breaker', 'z075-july-01-22-printer_big', 'z095-july-11-22-knarrevik_assemble', 'z145-aug-18-22-dslr', 'R207-11Nov-CircuitBreaker', 'R158-3Oct-RAM & Graphicscard', 'z112-aug-03-22-marius_disassemble', 'R130-25Aug-GraphicsCard', 'z193-sep-16-22-knarrevik_assemble', 'z082-july-06-22-rashult_disassemble', 'z175-sep-05-22-rashult_assemble', 'z134-aug-13-22-espresso', 'z010-june-16-22-rashult_disassemble', 'z141-aug-16-22-knarrevik_assemble', 'R121-15Aug-Circuit-Breaker', 'z101-july-13-22-printer_big', 'z144-aug-18-22-rashult_assemble', 'z083-july-06-22-gladom_disassemble', 'R123-15Aug-Belt', 'z021-june-20-22-knarrevik_disassemble', 'z088-july-07-22-printer_big', 'z166-sep-01-22-knarrevik_assemble', 'z072-july-01-22-gladom_disassemble', 'z106-july-14-22-dslr', 'z174-sep-04-22-gopro', 'z195-sep-17-22-marius_disassemble', 'z122-aug-09-22-rashult_assemble', 'z050-june-27-22-printer_big', 'z120-aug-09-22-switch', 'z105-july-14-22-knarrevik_disassemble', 'z192-sep-11-22-dslr', 'z054-june-27-22-knarrevik_disassemble', 'z164-aug-31-22-printer_big', 'R054-13July-Navvis', 'z151-aug-25-22-printer_big', 'z136-aug-13-22-nespresso', 'z057-june-28-22-dslr', 'R004-7July-GoPro', 'z157-aug-27-22-knarrevik_assemble', 'z020-june-20-22-gopro', 'R214-17Nov-GraphicsCard', 'z123-aug-09-22-switch', 'z188-sep-10-22-gladom_assemble', 'z054-june-27-22-gopro', 'z129-aug-11-22-switch', 'z083-july-06-22-marius_assemble', 'z036-june-23-22-dslr', 'R181-12Oct-Graphicscard', 'z017-june-20-22-gladom_assemble', 'z172-sep-03-22-dslr', 'z179-sep-06-22-gladom_assemble', 'z127-aug-10-22-espresso', 'R058-14July-Switch', 'z199-sep-21-22-knarrevik_assemble', 'z081-july-06-22-gladom_assemble', 'z148-aug-20-22-printer_big', 'z158-aug-28-22-gladom_assemble', 'z195-sep-17-22-printer_small', 'z060-june-28-22-espresso', 'z162-aug-30-22-gladom_disassemble', 'R070-19July-Nespresso', 'z151-aug-25-22-switch', 'z203-sep-24-22-rashult_assemble', 'z051-june-27-22-printer_small', 'z057-june-28-22-knarrevik_disassemble', 'R046-13July-SmallPrinter', 'z104-july-14-22-marius_assemble', 'R148-02Sep-Graphicscard', 'z069-june-29-22-switch', 'z150-aug-22-22-nespresso', 'z019-june-20-22-knarrevik_disassemble', 'z162-aug-30-22-marius_disassemble', 'R111-8Aug-Navvis-Part1', 'z153-aug-25-22-rashult_disassemble', 'z184-sep-08-22-rashult_disassemble', 'z060-june-28-22-marius_disassemble', 'z142-aug-17-22-switch', 'z047-june-25-22-marius_disassemble', 'z171-sep-03-22-knarrevik_disassemble', 'z075-july-01-22-espresso', 'z105-july-14-22-gladom_assemble', 'z185-sep-09-22-gopro', 'z120-aug-09-22-gladom_disassemble', 'R188-24Oct-Belt', 'z154-aug-26-22-marius_disassemble', 'R212-16Nov-GraphicsCard', 'z101-july-13-22-printer_small', 'z198-sep-18-22-rashult_disassemble', 'z161-aug-29-22-dslr', 'z009-june-15-22-gladom_assemble', 'R135-31Aug-Graphicscard', 'R074-20July-Nespresso', 'R073-20July-Navvis', 'z101-july-13-22-dslr', 'z078-july-01-22-dslr', 'R047-13July-GoPro', 'z072-july-01-22-knarrevik_disassemble', 'z203-sep-24-22-gladom_disassemble', 'R139-31Aug-Graphicscard', 'z020-june-20-22-marius_disassemble', 'z130-aug-11-22-gladom_disassemble', 'z160-aug-29-22-dslr', 'z177-sep-05-22-knarrevik_disassemble', 'z104-july-14-22-dslr', 'z055-june-27-22-rashult_disassemble', 'R103-2Aug-GoPro', 'R088-July29-BigPrinter', 'z126-aug-10-22-gladom_assemble', 'R145-02Sep-RAM', 'z015-june-17-22-gladom_disassemble', 'z076-july-01-22-printer_small', 'z204-sep-25-22-switch', 'z161-aug-29-22-marius_disassemble', 'z154-aug-26-22-gopro', 'z069-june-29-22-marius_disassemble', 'z140-aug-16-22-switch', 'R136-31Aug-RAM', 'z048-june-25-22-marius_disassemble', 'R104-2Aug-Nespresso', 'z208-sep-27-22-gladom_disassemble', 'z068-june-29-22-marius_disassemble', 'z183-sep-08-22-knarrevik_disassemble', 'z074-july-01-22-marius_assemble', 'z100-july-13-22-rashult_assemble', 'z185-sep-09-22-nespresso', 'z085-july-06-22-knarrevik_disassemble', 'z057-june-28-22-rashult_disassemble', 'z108-july-26-22-gladom_disassemble', 'z083-july-06-22-gladom_assemble', 'z122-aug-09-22-gladom_disassemble', 'z185-sep-09-22-printer_big', 'z189-sep-10-22-marius_disassemble', 'z198-sep-18-22-espresso', 'z055-june-27-22-knarrevik_disassemble', 'R100-1Aug-SmallPrinter', 'z085-july-06-22-gopro', 'z135-aug-13-22-gladom_disassemble', 'R067-15July-DSLR', 'R162-3Oct-RAM', 'z138-aug-15-22-gopro', 'z089-july-07-22-espresso', 'R099-1Aug-Navvis', 'z027-june-22-22-switch', 'z075-july-01-22-gopro', 'z122-aug-09-22-rashult_disassemble', 'z161-aug-29-22-gopro', 'z203-sep-24-22-switch', 'R013-7July-Nespresso', 'R199-2Nov-RAM', 'z173-sep-04-22-printer_big', 'z105-july-14-22-knarrevik_assemble', 'z164-aug-31-22-marius_assemble', 'z031-june-22-22-gopro', 'z134-aug-13-22-knarrevik_assemble', 'z048-june-25-22-knarrevik_assemble', 'z077-july-01-22-printer_big', 'z175-sep-05-22-rashult_disassemble', 'R092-28July-ATV', 'z170-sep-03-22-dslr', 'z112-aug-03-22-marius_assemble', 'z153-aug-25-22-marius_assemble', 'z192-sep-11-22-rashult_assemble', 'z186-sep-09-22-rashult_assemble', 'z041-june-24-22-knarrevik_assemble', 'z074-july-01-22-knarrevik_disassemble', 'z095-july-11-22-gopro', 'z208-sep-27-22-knarrevik_disassemble', 'z032-june-22-22-marius_assemble', 'z168-sep-01-22-dslr', 'z013-june-16-22-gopro', 'z025-june-21-22-dslr', 'z137-aug-14-22-knarrevik_disassemble', 'z056-june-28-22-marius_assemble', 'z068-june-29-22-gladom_assemble', 'R134-26Aug-GraphicsCard', 'z194-sep-16-22-rashult_assemble', 'R086-27July-BigPrinter', 'z200-sep-22-22-rashult_disassemble', 'z056-june-28-22-printer_small', 'z062-june-29-22-knarrevik_assemble', 'z210-sep-29-22-rashult_assemble', 'z015-june-17-22-switch', 'z196-sep-17-22-knarrevik_disassemble', 'z053-june-27-22-marius_disassemble', 'z075-july-01-22-rashult_disassemble', 'R038-13July-Switch', 'z078-july-01-22-gladom_assemble', 'z062-june-29-22-printer_big', 'z095-july-11-22-printer_big', 'z043-june-24-22-gladom_disassemble', 'z062-june-29-22-printer_small', 'R096-28July-Circuit-Breaker', 'R072-20July-Switch', 'R132-26Aug-GraphicsCard', 'z096-july-12-22-marius_disassemble', 'R051-13July-SmallPrinter', 'z182-sep-08-22-espresso', 'z175-sep-05-22-printer_small', 'z068-june-29-22-knarrevik_assemble', 'z039-june-23-22-marius_assemble', 'z015-june-17-22-gopro', 'z129-aug-11-22-marius_disassemble', 'z181-sep-07-22-nespresso', 'z203-sep-24-22-nespresso', 'z181-sep-07-22-printer_small', 'R201-7Nov-ATV', 'z118-aug-05-22-gladom_assemble', 'z047-june-25-22-printer_small', 'z145-aug-18-22-switch', 'z059-june-28-22-knarrevik_disassemble', 'z045-june-24-22-switch', 'R102-2Aug-DSLR', 'z178-sep-05-22-nespresso', 'z059-june-28-22-dslr', 'z088-july-07-22-gopro', 'z200-sep-22-22-nespresso', 'R179-12Oct-Graphicscard', 'z141-aug-16-22-dslr', 'z117-aug-05-22-knarrevik_assemble', 'z194-sep-16-22-switch', 'z054-june-27-22-knarrevik_assemble', 'z210-sep-29-22-dslr', 'z051-june-27-22-dslr', 'R203-7Nov-ATV', 'R106-4Aug-Coffee', 'z183-sep-08-22-dslr', 'R186-17Oct-RAM', 'z071-june-29-22-rashult_assemble', 'z035-june-23-22-dslr', 'z172-sep-03-22-marius_assemble', 'z102-july-13-22-nespresso', 'z183-sep-08-22-gopro', 'z204-sep-25-22-knarrevik_assemble', 'R106-4Aug-Nespresso', 'z170-sep-03-22-marius_disassemble', 'z008-june-15-22-rashult_disassemble', 'z082-july-06-22-gopro', 'R192-24Oct-Belt', 'z022-june-21-22-printer_small', 'z131-aug-11-22-switch', 'z138-aug-15-22-gladom_assemble', 'z173-sep-04-22-gopro', 'z197-sep-18-22-knarrevik_disassemble', 'z198-sep-18-22-nespresso', 'z063-june-29-22-printer_big', 'R079-21July-Coffee', 'z164-aug-31-22-gopro', 'z200-sep-22-22-knarrevik_disassemble', 'z010-june-16-22-gladom_disassemble', 'z170-sep-03-22-gladom_assemble', 'z095-july-11-22-printer_small', 'z165-aug-31-22-knarrevik_assemble', 'z078-july-01-22-printer_small', 'R006-7July-Switch', 'z197-sep-18-22-espresso', 'z053-june-27-22-printer_small', 'z032-june-22-22-knarrevik_disassemble', 'z170-sep-03-22-rashult_assemble', 'R091-29July-Belt', 'R069-19July-BigPrinter', 'R097-29July-DSLR', 'z101-july-13-22-gopro', 'z064-june-29-22-marius_assemble', 'z171-sep-03-22-gladom_disassemble', 'R032-12July-BigPrinter', 'z086-july-07-22-marius_disassemble', 'z066-june-29-22-knarrevik_assemble', 'z131-aug-11-22-knarrevik_assemble', 'R206-11Nov-CircuitBreaker', 'z195-sep-17-22-gladom_assemble', 'z210-sep-29-22-gladom_disassemble', 'z093-july-11-22-marius_assemble', 'z084-july-06-22-gladom_assemble', 'z156-aug-26-22-printer_small', 'z204-sep-25-22-marius_disassemble', 'z205-sep-25-22-gladom_assemble', 'z192-sep-11-22-knarrevik_disassemble', 'z169-sep-02-22-espresso', 'z206-sep-26-22-marius_assemble', 'z021-june-20-22-gladom_disassemble', 'z187-sep-09-22-knarrevik_assemble', 'z068-june-29-22-knarrevik_disassemble', 'z165-aug-31-22-dslr', 'z024-june-21-22-printer_small', 'z119-aug-08-22-marius_assemble', 'z134-aug-13-22-gopro', 'z070-june-29-22-gopro', 'z127-aug-10-22-printer_small', 'z092-july-11-22-rashult_disassemble', 'z096-july-12-22-switch', 'R204-11Nov-CircuitBreaker', 'z011-june-16-22-marius_assemble', 'z101-july-13-22-rashult_disassemble', 'R121-15Aug-ATV', 'z125-aug-10-22-knarrevik_assemble', 'R065-15July-Belt', 'z134-aug-13-22-knarrevik_disassemble', 'z011-june-16-22-switch', 'z161-aug-29-22-gladom_disassemble', 'z025-june-21-22-nespresso', 'z110-aug-02-22-switch', 'z142-aug-17-22-nespresso', 'z011-june-16-22-nespresso', 'z058-june-28-22-switch', 'z160-aug-29-22-printer_big', 'z105-july-14-22-gladom_disassemble', 'z072-july-01-22-marius_disassemble', 'z014-june-17-22-switch', 'z133-aug-12-22-rashult_disassemble', 'z167-sep-01-22-nespresso', 'R124-15Aug-Belt', 'R116-10Aug-Navvis-Part2', 'z048-june-25-22-gopro', 'z090-july-08-22-printer_big', 'R147-02Sep-RAM', 'z022-june-21-22-printer_big', 'z154-aug-26-22-marius_assemble', 'z122-aug-09-22-nespresso', 'R213-16Nov-GraphicsCard', 'z063-june-29-22-dslr', 'z063-june-29-22-marius_assemble', 'z084-july-06-22-marius_disassemble', 'z151-aug-25-22-gopro', 'z095-july-11-22-rashult_disassemble', 'z049-june-27-22-marius_assemble', 'z121-aug-09-22-gladom_disassemble', 'z130-aug-11-22-knarrevik_disassemble', 'z184-sep-08-22-knarrevik_disassemble', 'z159-aug-28-22-printer_big', 'z116-aug-05-22-printer_small', 'z045-june-24-22-marius_assemble', 'z204-sep-25-22-marius_assemble', 'z085-july-06-22-gladom_disassemble', 'z130-aug-11-22-dslr', 'z209-sep-28-22-marius_assemble', 'z210-sep-29-22-gladom_assemble', 'R208-11Nov-CircuitBreaker', 'z045-june-24-22-gladom_disassemble', 'z053-june-27-22-knarrevik_assemble', 'z091-july-08-22-gladom_disassemble', 'z158-aug-28-22-nespresso', 'z154-aug-26-22-dslr', 'z143-aug-17-22-marius_disassemble', 'z198-sep-18-22-gladom_assemble', 'z166-sep-01-22-marius_assemble', 'R085-26July-Coffee', 'z089-july-07-22-nespresso', 'z044-june-24-22-marius_assemble', 'z129-aug-11-22-knarrevik_disassemble', 'z125-aug-10-22-gladom_disassemble', 'z175-sep-05-22-marius_assemble', 'z168-sep-01-22-gopro', 'z117-aug-05-22-gladom_disassemble', 'z050-june-27-22-gopro', 'z090-july-08-22-rashult_disassemble', 'z026-june-22-22-switch', 'z050-june-27-22-knarrevik_disassemble', 'z101-july-13-22-gladom_assemble', 'z026-june-22-22-gladom_assemble', 'z055-june-27-22-marius_assemble', 'z156-aug-26-22-rashult_assemble', 'z130-aug-11-22-nespresso', 'z172-sep-03-22-switch', 'z066-june-29-22-knarrevik_disassemble', 'z200-sep-22-22-gopro', 'z133-aug-12-22-printer_big', 'z083-july-06-22-printer_big', 'z098-july-12-22-marius_disassemble', 'z138-aug-15-22-dslr', 'z094-july-11-22-knarrevik_assemble', 'z056-june-28-22-knarrevik_disassemble', 'z185-sep-09-22-gladom_disassemble', 'z028-june-22-22-dslr', 'z053-june-27-22-printer_big', 'z173-sep-04-22-knarrevik_disassemble', 'R163-3Oct-RAM', 'z069-june-29-22-gladom_assemble', 'z075-july-01-22-printer_small', 'R211-16Nov-RAM', 'z130-aug-11-22-printer_big', 'z066-june-29-22-rashult_disassemble', 'z177-sep-05-22-gladom_assemble', 'z151-aug-25-22-gladom_disassemble', 'z066-june-29-22-gladom_assemble', 'z118-aug-05-22-marius_disassemble', 'z029-june-22-22-nespresso', 'z124-aug-10-22-rashult_assemble', 'z144-aug-18-22-switch', 'z147-aug-20-22-gladom_disassemble', 'z088-july-07-22-marius_assemble', 'R053-13July-Navvis', 'z026-june-22-22-marius_disassemble', 'z190-sep-10-22-marius_disassemble', 'z161-aug-29-22-switch', 'R110-5Aug-Navvis', 'z119-aug-08-22-knarrevik_assemble', 'z186-sep-09-22-dslr', 'z051-june-27-22-gladom_disassemble', 'z117-aug-05-22-marius_disassemble', 'R086-27July-Switch-Part2', 'z199-sep-21-22-gopro', 'z168-sep-01-22-printer_big'}\n"
     ]
    }
   ],
   "source": [
    "device = torch.device(\"cuda\" if torch.cuda.is_available() else \"cpu\")\n",
    "\n",
    "model = VideoModel(\n",
    "    num_classes=args.num_classes, \n",
    "    num_segments=args.num_segments, \n",
    "    base_model=args.base_model,\n",
    "    fusion_mode=args.fusion_mode,\n",
    "    verbose=False,\n",
    ").to(device)\n",
    "\n",
    "input_size = model.input_size\n",
    "crop_size = model.crop_size\n",
    "input_mean = model.input_mean\n",
    "input_std = model.input_std\n",
    "div = model.div\n",
    "\n",
    "# Parallel!\n",
    "model = torch.nn.DataParallel(model).to(device)\n",
    "\n",
    "#  ========================= LOAD MODEL STATE =========================\n",
    "# \n",
    "\n",
    "checkpoint = torch.load(f=args.checkpoint, map_location=device)\n",
    "model.load_state_dict(state_dict=checkpoint[\"model_state_dict\"], strict=False)\n",
    "\n",
    "#  ========================= PREPARE CLIPS DATA =========================\n",
    "#\n",
    "video_name_arr, start_arr, end_arr = prepare_clips_data_test(\n",
    "    holoassist_dir=\"/Users/artemmerinov/data/holoassist/HoloAssist\",\n",
    "    test_action_clips_file=\"/Users/artemmerinov/data//holoassist/test_action_clips.txt\"\n",
    ")"
   ]
  },
  {
   "cell_type": "code",
   "execution_count": null,
   "metadata": {},
   "outputs": [],
   "source": []
  },
  {
   "cell_type": "code",
   "execution_count": 9,
   "metadata": {},
   "outputs": [
    {
     "name": "stdout",
     "output_type": "stream",
     "text": [
      "\n",
      "repeat_id=0 time=2024-05-21 15:30:40\n",
      "\n",
      "repeat_id=1 time=2024-05-21 15:30:40\n",
      "\n",
      "repeat_id=2 time=2024-05-21 15:30:40\n"
     ]
    }
   ],
   "source": [
    "probs = torch.empty((args.repetitions, len(video_name_arr), args.num_classes), dtype=torch.float32)\n",
    "\n",
    "for repeat_id in range(args.repetitions):\n",
    "    print(\n",
    "        f\"\\nrepeat_id={repeat_id}\",\n",
    "        f\"time={datetime.fromtimestamp(time.time()).strftime('%Y-%m-%d %H:%M:%S')}\",\n",
    "        flush=True\n",
    "    )\n",
    "\n",
    "    #  ========================= DATALOADER =========================\n",
    "    # \n",
    "\n",
    "    # Make dataloader for each repeat.\n",
    "\n",
    "    transform = Compose([\n",
    "        GroupMultiScaleCrop(input_size=input_size, scales=[1, .875]),\n",
    "        Stack(),\n",
    "        ToTorchFormatTensor(div=div),\n",
    "        GroupNormalize(mean=input_mean, std=input_std),\n",
    "    ])\n",
    "    dataset = VideoDatasetTest(\n",
    "        holoassist_dir=args.holoassist_dir,\n",
    "        video_name_arr=video_name_arr,\n",
    "        start_arr=start_arr,\n",
    "        end_arr=end_arr,\n",
    "        num_segments=args.num_segments,\n",
    "        transform=transform,\n",
    "    )\n",
    "    dataloader = DataLoader(\n",
    "        dataset=dataset, \n",
    "        batch_size=args.batch_size, \n",
    "        shuffle=False,\n",
    "        num_workers=args.num_workers, \n",
    "        drop_last=False, \n",
    "        pin_memory=True,\n",
    "        prefetch_factor=args.prefetch_factor,\n",
    "    )"
   ]
  },
  {
   "cell_type": "code",
   "execution_count": 10,
   "metadata": {},
   "outputs": [
    {
     "data": {
      "text/plain": [
       "('z209-sep-28-22-gladom_disassemble_0.963_2.698',\n",
       " tensor([[[ 0.0667,  0.0745,  0.0667,  ..., -0.5294, -0.5294, -0.5294],\n",
       "          [ 0.0667,  0.0745,  0.0667,  ..., -0.5294, -0.5294, -0.5294],\n",
       "          [ 0.0667,  0.0745,  0.0667,  ..., -0.5294, -0.5294, -0.5294],\n",
       "          ...,\n",
       "          [-0.3804, -0.3412, -0.3490,  ..., -0.4745, -0.4667, -0.4588],\n",
       "          [-0.4431, -0.3882, -0.3569,  ..., -0.4824, -0.4667, -0.4588],\n",
       "          [-0.2627, -0.3333, -0.3255,  ..., -0.4902, -0.4667, -0.4588]],\n",
       " \n",
       "         [[-0.0196, -0.0118, -0.0196,  ..., -0.5608, -0.5608, -0.5608],\n",
       "          [-0.0196, -0.0118, -0.0196,  ..., -0.5608, -0.5608, -0.5608],\n",
       "          [-0.0196, -0.0118, -0.0196,  ..., -0.5608, -0.5608, -0.5608],\n",
       "          ...,\n",
       "          [-0.4431, -0.4275, -0.4431,  ..., -0.5216, -0.5137, -0.5059],\n",
       "          [-0.5059, -0.4588, -0.4353,  ..., -0.5294, -0.5137, -0.5059],\n",
       "          [-0.3255, -0.3961, -0.3961,  ..., -0.5373, -0.5137, -0.5059]],\n",
       " \n",
       "         [[-0.0588, -0.0588, -0.0745,  ..., -0.6235, -0.6235, -0.6078],\n",
       "          [-0.0588, -0.0588, -0.0745,  ..., -0.6235, -0.6235, -0.6078],\n",
       "          [-0.0588, -0.0588, -0.0745,  ..., -0.6235, -0.6235, -0.6078],\n",
       "          ...,\n",
       "          [-0.5216, -0.4902, -0.4980,  ..., -0.5608, -0.5529, -0.5451],\n",
       "          [-0.5922, -0.5451, -0.5059,  ..., -0.5686, -0.5529, -0.5451],\n",
       "          [-0.4118, -0.4902, -0.4667,  ..., -0.5765, -0.5529, -0.5451]],\n",
       " \n",
       "         ...,\n",
       " \n",
       "         [[-0.8118, -0.8039, -0.7961,  ..., -1.0000, -1.0000, -1.0000],\n",
       "          [-0.8039, -0.8039, -0.7961,  ..., -1.0000, -1.0000, -1.0000],\n",
       "          [-0.8039, -0.7961, -0.7961,  ..., -1.0000, -1.0000, -1.0000],\n",
       "          ...,\n",
       "          [-0.9373, -0.7020, -0.6078,  ...,  0.9451,  0.9451,  0.9451],\n",
       "          [-0.8510, -0.7882, -0.5843,  ...,  0.9451,  0.9451,  0.9451],\n",
       "          [-0.8196, -0.8667, -0.5765,  ...,  0.9451,  0.9529,  0.9529]],\n",
       " \n",
       "         [[-0.8118, -0.8196, -0.8118,  ..., -1.0000, -1.0000, -1.0000],\n",
       "          [-0.8039, -0.8196, -0.8196,  ..., -1.0000, -1.0000, -1.0000],\n",
       "          [-0.8039, -0.8118, -0.8118,  ..., -1.0000, -1.0000, -1.0000],\n",
       "          ...,\n",
       "          [-0.9373, -0.7176, -0.6314,  ...,  0.8588,  0.8588,  0.8588],\n",
       "          [-0.8510, -0.8039, -0.6000,  ...,  0.8588,  0.8588,  0.8588],\n",
       "          [-0.8196, -0.8745, -0.5922,  ...,  0.8588,  0.8667,  0.8667]],\n",
       " \n",
       "         [[-0.8118, -0.8431, -0.8353,  ..., -1.0000, -1.0000, -1.0000],\n",
       "          [-0.8039, -0.8431, -0.8353,  ..., -1.0000, -1.0000, -1.0000],\n",
       "          [-0.8039, -0.8353, -0.8353,  ..., -1.0000, -1.0000, -1.0000],\n",
       "          ...,\n",
       "          [-0.9373, -0.7098, -0.6078,  ...,  0.8353,  0.8353,  0.8353],\n",
       "          [-0.8510, -0.7961, -0.5922,  ...,  0.8353,  0.8353,  0.8353],\n",
       "          [-0.8196, -0.8745, -0.5922,  ...,  0.8353,  0.8431,  0.8431]]]))"
      ]
     },
     "execution_count": 10,
     "metadata": {},
     "output_type": "execute_result"
    }
   ],
   "source": [
    "dataset[0]"
   ]
  },
  {
   "cell_type": "code",
   "execution_count": null,
   "metadata": {},
   "outputs": [],
   "source": []
  },
  {
   "cell_type": "code",
   "execution_count": 18,
   "metadata": {},
   "outputs": [],
   "source": [
    "keys = [\"one\",\"two\",\"3\",\"4\",\"5\",\"6\",\"7\"]\n",
    "logits = torch.rand((7,1222))"
   ]
  },
  {
   "cell_type": "code",
   "execution_count": 22,
   "metadata": {},
   "outputs": [],
   "source": [
    "_, ids = torch.topk(logits, k=5, dim=1)"
   ]
  },
  {
   "cell_type": "code",
   "execution_count": 23,
   "metadata": {},
   "outputs": [
    {
     "data": {
      "text/plain": [
       "torch.Size([7, 5])"
      ]
     },
     "execution_count": 23,
     "metadata": {},
     "output_type": "execute_result"
    }
   ],
   "source": [
    "ids.size()"
   ]
  },
  {
   "cell_type": "code",
   "execution_count": 24,
   "metadata": {},
   "outputs": [],
   "source": [
    "for k,v in zip(keys, ids):\n",
    "    pass"
   ]
  },
  {
   "cell_type": "code",
   "execution_count": 27,
   "metadata": {},
   "outputs": [
    {
     "data": {
      "text/plain": [
       "[84, 1118, 61, 43, 1006]"
      ]
     },
     "execution_count": 27,
     "metadata": {},
     "output_type": "execute_result"
    }
   ],
   "source": [
    "v.tolist()"
   ]
  },
  {
   "cell_type": "code",
   "execution_count": null,
   "metadata": {},
   "outputs": [],
   "source": []
  }
 ],
 "metadata": {
  "kernelspec": {
   "display_name": ".venv",
   "language": "python",
   "name": "python3"
  },
  "language_info": {
   "codemirror_mode": {
    "name": "ipython",
    "version": 3
   },
   "file_extension": ".py",
   "mimetype": "text/x-python",
   "name": "python",
   "nbconvert_exporter": "python",
   "pygments_lexer": "ipython3",
   "version": "3.10.10"
  }
 },
 "nbformat": 4,
 "nbformat_minor": 2
}
